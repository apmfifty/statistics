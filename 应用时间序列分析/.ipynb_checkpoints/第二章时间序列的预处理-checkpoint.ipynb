{
 "cells": [
  {
   "cell_type": "markdown",
   "metadata": {},
   "source": [
    "# 第二章时间序列的预处理\n",
    "\n",
    "## 1 导入库"
   ]
  },
  {
   "cell_type": "code",
   "execution_count": 1,
   "metadata": {
    "collapsed": true
   },
   "outputs": [],
   "source": [
    "import datetime\n",
    "import pandas as pd\n",
    "import numpy as np\n",
    "import os\n",
    "import matplotlib as  mpl\n",
    "\n",
    "import matplotlib.pyplot as plt\n",
    "\n",
    "plt.rcParams['font.sans-serif'] = ['SimHei']  # 用来正常显示中文标签\n",
    "plt.rcParams['axes.unicode_minus'] = False  # 用来正常显示负号\n",
    "\n",
    "\n",
    "\n",
    "\n",
    "习题数据=\"./习题与案例数据/习题数据/\"\n",
    "案例数据=\"./习题与案例数据/案例数据/\""
   ]
  },
  {
   "cell_type": "code",
   "execution_count": 2,
   "metadata": {},
   "outputs": [
    {
     "name": "stderr",
     "output_type": "stream",
     "text": [
      "/Users/pengju/anaconda3/lib/python3.6/site-packages/statsmodels/compat/pandas.py:56: FutureWarning: The pandas.core.datetools module is deprecated and will be removed in a future version. Please use the pandas.tseries module instead.\n",
      "  from pandas.core import datetools\n"
     ]
    }
   ],
   "source": [
    "from statsmodels.tsa.stattools import acf,pacf\n",
    "import statsmodels.api as sm"
   ]
  },
  {
   "cell_type": "markdown",
   "metadata": {},
   "source": [
    "-------\n",
    "\n",
    "-------\n",
    "##  核心概念\n",
    "\n",
    "### 1 ACF\n",
    "####  随机变量${x_i}$的统计量：均值、方差、协方差、协方差系数\n",
    "- 均值 $EX=\\frac{\\Sigma_{i=1}^{n}x_i}{n}$ \n",
    "\n",
    "- 方差 $DX=E(x-EX)^2$\n",
    "\n",
    "- 协方差 $Cov(x,y)=E(x-EX)(y-EY)$\n",
    "\n",
    "- 协方差系数 $\\rho=\\frac{Cov(x,y)}{\\sqrt{DX DY}}$\n",
    "\n",
    "#### 序列$\\{{x_t}\\}$的的统计量：均值、方差、自协方差函数、自协方差系数\n",
    "\n",
    "- 均值 $EX_t=\\frac{\\Sigma_{i=1}^{n}x_i}{n}$ \n",
    "\n",
    "- 方差 $DX_s=E(x_s-EX_s)^2$\n",
    "\n",
    "- 自协方差函数 $\\gamma(k,s)=E(x_k-EX_k)(x_s-EX_s)$\n",
    "\n",
    "- 自协方差系数 $\\rho=\\frac{\\gamma(k,s)}{\\sqrt{DX_k \\bullet Dx_s}}$\n",
    "\n",
    "\n",
    "#### 宽平稳时间序列\n",
    "\n",
    "- 定义： \n",
    "     - 均值不变 $EX_t=\\mu $\n",
    "     - 自协方差函数和自协方差系数与起点无关 $\\gamma(t-s)=\\gamma(s,t)=\\gamma(k,k+t-s)$\n",
    "     - $\\gamma(0)=\\gamma(k,k)=E(x_k-EX_k)(x_k-EX_k)=DX_k$\n",
    "\n",
    "#### 如何使用numpy实现ACF 计算的思路(参考 statsmodels.tsa.stattools.acf)\n",
    "- numpy.correlate 基于C语言实现了卷积的方法，非常高效\n",
    "- [自协方差函数] = numpy.correlate(x,x)/len(x)[x-1:]\n",
    "- 自协方差系数=[自协方差函数]/[自协方差函数][0] \n",
    "\n",
    "\n",
    "\n",
    "\n"
   ]
  },
  {
   "cell_type": "code",
   "execution_count": 3,
   "metadata": {
    "collapsed": true
   },
   "outputs": [],
   "source": [
    "# 自定义实现acf函数\n",
    "def my_acf(ts,nlags=40):\n",
    "    ts=ts.values.flatten()\n",
    "    ts=ts-ts.mean()\n",
    "    cov=(np.correlate(ts,ts,mode='full')/len(ts))[len(ts)-1:]\n",
    "    return (cov/cov[0])[:nlags+1]"
   ]
  },
  {
   "cell_type": "markdown",
   "metadata": {},
   "source": [
    "-------\n",
    "\n",
    "-------\n",
    "\n",
    "## 例题\n",
    "### 例2-1"
   ]
  },
  {
   "cell_type": "code",
   "execution_count": 4,
   "metadata": {
    "scrolled": true
   },
   "outputs": [
    {
     "data": {
      "image/png": "[encoded data removed]",
      "text/plain": [
       "<matplotlib.figure.Figure at 0x10a6599b0>"
      ]
     },
     "metadata": {},
     "output_type": "display_data"
    }
   ],
   "source": [
    "纱年产量=pd.read_excel(os.path.join(案例数据,\"附录1.4.xls\"),date_parser='年份')\n",
    "纱年产量['年份']=pd.to_datetime(纱年产量['年份'],format='%Y')\n",
    "纱年产量.set_index('年份',inplace=True)\n",
    "纱年产量.plot()\n",
    "plt.show()"
   ]
  },
  {
   "cell_type": "code",
   "execution_count": 5,
   "metadata": {
    "scrolled": true
   },
   "outputs": [
    {
     "data": {
      "image/png": "[encoded data removed]",
      "text/plain": [
       "<matplotlib.figure.Figure at 0x10c402160>"
      ]
     },
     "metadata": {},
     "output_type": "display_data"
    },
    {
     "name": "stdout",
     "output_type": "stream",
     "text": [
      "       自相关系数\n",
      "0   1.000000\n",
      "1   0.913922\n",
      "2   0.843423\n",
      "3   0.767194\n",
      "4   0.695449\n",
      "5   0.608744\n",
      "6   0.543779\n",
      "7   0.476306\n",
      "8   0.395434\n",
      "9   0.320923\n",
      "10  0.242057\n",
      "       自相关系数\n",
      "0   1.000000\n",
      "1   0.913922\n",
      "2   0.843423\n",
      "3   0.767194\n",
      "4   0.695449\n",
      "5   0.608744\n",
      "6   0.543779\n",
      "7   0.476306\n",
      "8   0.395434\n",
      "9   0.320923\n",
      "10  0.242057\n"
     ]
    }
   ],
   "source": [
    "# 方法1: 使用statsmodel带的方法进行展示\n",
    "sm.graphics.tsa.plot_acf(纱年产量)\n",
    "plt.title(\"纱年产量\")\n",
    "plt.show()\n",
    "print(pd.DataFrame(acf(纱年产量,nlags=10),columns=['自相关系数']))\n",
    "print(pd.DataFrame(my_acf(纱年产量,nlags=10),columns=['自相关系数']))"
   ]
  },
  {
   "cell_type": "markdown",
   "metadata": {},
   "source": [
    "### 例2-2"
   ]
  },
  {
   "cell_type": "code",
   "execution_count": 6,
   "metadata": {},
   "outputs": [
    {
     "data": {
      "image/png": "[encoded data removed]",
      "text/plain": [
       "<matplotlib.figure.Figure at 0x10c46ff60>"
      ]
     },
     "metadata": {},
     "output_type": "display_data"
    }
   ],
   "source": [
    "奶牛产量=pd.read_excel(os.path.join(案例数据,\"附录1.5.xlsx\")).set_index('time')\n",
    "奶牛产量.index=pd.to_datetime(奶牛产量.index)\n",
    "奶牛产量.plot()\n",
    "plt.show()"
   ]
  },
  {
   "cell_type": "code",
   "execution_count": 7,
   "metadata": {
    "scrolled": true
   },
   "outputs": [
    {
     "data": {
      "image/png": "[encoded data removed]",
      "text/plain": [
       "<matplotlib.figure.Figure at 0x1c138eef60>"
      ]
     },
     "metadata": {},
     "output_type": "display_data"
    },
    {
     "name": "stdout",
     "output_type": "stream",
     "text": [
      "      自相关系数\n",
      "0  1.000000\n",
      "1  0.891574\n",
      "2  0.778179\n",
      "3  0.620271\n",
      "4  0.486664\n",
      "5  0.428148\n",
      "      自相关系数\n",
      "0  1.000000\n",
      "1  0.891574\n",
      "2  0.778179\n",
      "3  0.620271\n",
      "4  0.486664\n",
      "5  0.428148\n"
     ]
    }
   ],
   "source": [
    "sm.graphics.tsa.plot_acf(奶牛产量,lags=40)\n",
    "plt.title(\"奶牛产量\")\n",
    "plt.show()\n",
    "print(pd.DataFrame(acf(奶牛产量,nlags=5),columns=['自相关系数']))\n",
    "print(pd.DataFrame(my_acf(奶牛产量,nlags=5),columns=['自相关系数']))"
   ]
  },
  {
   "cell_type": "markdown",
   "metadata": {},
   "source": [
    "## 例2-3 "
   ]
  },
  {
   "cell_type": "code",
   "execution_count": 8,
   "metadata": {},
   "outputs": [
    {
     "data": {
      "image/png": "[encoded data removed]",
      "text/plain": [
       "<matplotlib.figure.Figure at 0x1c13a3e160>"
      ]
     },
     "metadata": {},
     "output_type": "display_data"
    }
   ],
   "source": [
    "北京气温=pd.read_excel(os.path.join(案例数据,\"附录1.6.xls\")).set_index(\"年份\")\n",
    "北京气温.index=pd.to_datetime(北京气温.index,format='%Y')\n",
    "北京气温.plot(marker='s')\n",
    "plt.show()"
   ]
  },
  {
   "cell_type": "code",
   "execution_count": 9,
   "metadata": {
    "scrolled": true
   },
   "outputs": [
    {
     "data": {
      "image/png": "[encoded data removed]",
      "text/plain": [
       "<matplotlib.figure.Figure at 0x1c13adc898>"
      ]
     },
     "metadata": {},
     "output_type": "display_data"
    },
    {
     "name": "stdout",
     "output_type": "stream",
     "text": [
      "       自相关系数\n",
      "0   1.000000\n",
      "1  -0.175109\n",
      "2  -0.003544\n",
      "3   0.180263\n",
      "4   0.023051\n",
      "5  -0.164005\n",
      "6   0.098658\n",
      "7  -0.026292\n",
      "8  -0.003241\n",
      "9  -0.022279\n",
      "10  0.057953\n",
      "       自相关系数\n",
      "0   1.000000\n",
      "1  -0.175109\n",
      "2  -0.003544\n",
      "3   0.180263\n",
      "4   0.023051\n",
      "5  -0.164005\n",
      "6   0.098658\n",
      "7  -0.026292\n",
      "8  -0.003241\n",
      "9  -0.022279\n",
      "10  0.057953\n"
     ]
    }
   ],
   "source": [
    "sm.graphics.tsa.plot_acf(北京气温,lags=40)\n",
    "plt.title(\"北京气温\")\n",
    "plt.show()\n",
    "print(pd.DataFrame(acf(北京气温,nlags=10),columns=['自相关系数']))\n",
    "print(pd.DataFrame(my_acf(北京气温,nlags=10),columns=['自相关系数']))"
   ]
  },
  {
   "cell_type": "markdown",
   "metadata": {},
   "source": [
    "## 例2-4 生成白噪音"
   ]
  },
  {
   "cell_type": "code",
   "execution_count": 10,
   "metadata": {},
   "outputs": [
    {
     "data": {
      "image/png": "[encoded data removed]",
      "text/plain": [
       "<matplotlib.figure.Figure at 0x1c13ae9320>"
      ]
     },
     "metadata": {},
     "output_type": "display_data"
    }
   ],
   "source": [
    "白噪音=pd.Series(np.random.normal(loc=0,scale=1,size=1000),name='白噪音')\n",
    "白噪音.plot()\n",
    "plt.show()"
   ]
  },
  {
   "cell_type": "code",
   "execution_count": 11,
   "metadata": {
    "scrolled": true
   },
   "outputs": [
    {
     "data": {
      "image/png": "[encoded data removed]",
      "text/plain": [
       "<matplotlib.figure.Figure at 0x1c13be36a0>"
      ]
     },
     "metadata": {},
     "output_type": "display_data"
    },
    {
     "name": "stdout",
     "output_type": "stream",
     "text": [
      "       自相关系数\n",
      "0   1.000000\n",
      "1  -0.037424\n",
      "2  -0.006828\n",
      "3   0.019538\n",
      "4   0.019122\n",
      "5   0.037304\n",
      "6  -0.013943\n",
      "7   0.029686\n",
      "8  -0.024654\n",
      "9   0.066062\n",
      "10  0.037479\n",
      "       自相关系数\n",
      "0   1.000000\n",
      "1  -0.037424\n",
      "2  -0.006828\n",
      "3   0.019538\n",
      "4   0.019122\n",
      "5   0.037304\n",
      "6  -0.013943\n",
      "7   0.029686\n",
      "8  -0.024654\n",
      "9   0.066062\n",
      "10  0.037479\n"
     ]
    }
   ],
   "source": [
    "sm.graphics.tsa.plot_acf(白噪音,lags=100)\n",
    "plt.title(\"白噪音\")\n",
    "plt.show()\n",
    "print(pd.DataFrame(acf(白噪音,nlags=10),columns=['自相关系数']))\n",
    "print(pd.DataFrame(my_acf(白噪音,nlags=10),columns=['自相关系数']))"
   ]
  },
  {
   "cell_type": "markdown",
   "metadata": {},
   "source": [
    "### 纯随机性检验\n",
    "\n",
    "#### Barllett 定理 \n",
    "- 核心点： 告诉我们不同观察期数的自相关系数服从怎样的分布\n",
    "- 延迟非零期的样本自相关系数近似服从均值为零，方差为序列期数导数的**正态分布**\n",
    "    - $\\rho_k   ~~ N(0,\\frac{1}{n})$"
   ]
  },
  {
   "cell_type": "code",
   "execution_count": 19,
   "metadata": {
    "scrolled": true
   },
   "outputs": [
    {
     "name": "stdout",
     "output_type": "stream",
     "text": [
      "           期望       方差\n",
      "0  -0.0225329 -2.00386\n",
      "1  0.00309246 -3.18246\n",
      "2 -0.00416693 -4.04833\n"
     ]
    },
    {
     "data": {
      "image/png": "[encoded data removed]",
      "text/plain": [
       "<matplotlib.figure.Figure at 0x1c14738f28>"
      ]
     },
     "metadata": {},
     "output_type": "display_data"
    }
   ],
   "source": [
    "list_acf_rst=[]\n",
    "for i in range(2,5):\n",
    "    tmp_ts=pd.Series(np.random.normal(loc=0,scale=1,size=10**i))\n",
    "    acf_tmp=acf(tmp_ts,nlags=10)[1:]\n",
    "    list_acf_rst.append(acf_tmp)    \n",
    "acf_rst=np.stack(list_acf_rst)\n",
    "df_estimate=pd.DataFrame(columns=['期望','方差'])\n",
    "for i in range(acf_rst.shape[0]):\n",
    "    tmp_etm=acf_rst[i]\n",
    "    df_estimate.loc[i,'期望']=tmp_etm.mean()\n",
    "    df_estimate.loc[i,'方差']=np.log10(tmp_etm.var())    \n",
    "print(df_estimate.head())\n",
    "df_estimate['方差'].plot()\n",
    "plt.show()"
   ]
  },
  {
   "cell_type": "code",
   "execution_count": 18,
   "metadata": {},
   "outputs": [
    {
     "data": {
      "text/plain": [
       "0     0.00831027\n",
       "1     0.00125489\n",
       "2    4.27008e-05\n",
       "Name: 方差, dtype: object"
      ]
     },
     "execution_count": 18,
     "metadata": {},
     "output_type": "execute_result"
    }
   ],
   "source": [
    "df_estimate['方差']"
   ]
  },
  {
   "cell_type": "code",
   "execution_count": null,
   "metadata": {
    "collapsed": true
   },
   "outputs": [],
   "source": []
  },
  {
   "cell_type": "code",
   "execution_count": null,
   "metadata": {
    "collapsed": true
   },
   "outputs": [],
   "source": []
  },
  {
   "cell_type": "markdown",
   "metadata": {},
   "source": [
    "## 例2-5"
   ]
  },
  {
   "cell_type": "markdown",
   "metadata": {},
   "source": [
    "## 例2-6"
   ]
  },
  {
   "cell_type": "code",
   "execution_count": null,
   "metadata": {
    "collapsed": true
   },
   "outputs": [],
   "source": []
  },
  {
   "cell_type": "markdown",
   "metadata": {},
   "source": [
    "## 如何使用numpy计算acf\n",
    "\n",
    "\n"
   ]
  },
  {
   "cell_type": "code",
   "execution_count": null,
   "metadata": {
    "collapsed": true
   },
   "outputs": [],
   "source": []
  },
  {
   "cell_type": "code",
   "execution_count": null,
   "metadata": {
    "collapsed": true
   },
   "outputs": [],
   "source": []
  },
  {
   "cell_type": "code",
   "execution_count": null,
   "metadata": {},
   "outputs": [],
   "source": [
    "np.correlate()"
   ]
  },
  {
   "cell_type": "code",
   "execution_count": null,
   "metadata": {},
   "outputs": [],
   "source": [
    "sm.graphics.tsa.plot_acf(range(5))"
   ]
  },
  {
   "cell_type": "code",
   "execution_count": null,
   "metadata": {},
   "outputs": [],
   "source": [
    "acovf(pd.Series(range(5)))"
   ]
  },
  {
   "cell_type": "code",
   "execution_count": null,
   "metadata": {},
   "outputs": [],
   "source": [
    "np.cov( np.stack([pd.Series(range(5)),pd.Series(range())]))"
   ]
  },
  {
   "cell_type": "code",
   "execution_count": null,
   "metadata": {},
   "outputs": [],
   "source": [
    "acf(pd.Series(range(5)))"
   ]
  },
  {
   "cell_type": "code",
   "execution_count": null,
   "metadata": {
    "scrolled": true
   },
   "outputs": [],
   "source": [
    "纱年产量"
   ]
  },
  {
   "cell_type": "code",
   "execution_count": null,
   "metadata": {
    "collapsed": true
   },
   "outputs": [],
   "source": [
    "# 自定义acf 自相关函数的计算\n",
    "##01 获取矩阵\n",
    "\n",
    "##02 获取均值\n",
    "\n",
    "##03 获取方差\n",
    "\n",
    "##04 获取协方差\n",
    "\n",
    "##05 获取自相关系数\n"
   ]
  },
  {
   "cell_type": "code",
   "execution_count": null,
   "metadata": {
    "collapsed": true
   },
   "outputs": [],
   "source": [
    "ts=纱年产量.values.flatten()"
   ]
  },
  {
   "cell_type": "code",
   "execution_count": null,
   "metadata": {
    "collapsed": true,
    "scrolled": true
   },
   "outputs": [],
   "source": [
    "ts_mean=[ts[i:].mean() for i in range(ts.shape[0])]\n",
    "ts_var=[ts[i:].std() for i in range(ts.shape[0])]"
   ]
  },
  {
   "cell_type": "code",
   "execution_count": null,
   "metadata": {},
   "outputs": [],
   "source": [
    "np.cov((np.stack([ts-ts_mean[0],ts-ts_mean[0]],axis=0)))"
   ]
  },
  {
   "cell_type": "code",
   "execution_count": null,
   "metadata": {},
   "outputs": [],
   "source": [
    "ts_var[0]**2"
   ]
  },
  {
   "cell_type": "code",
   "execution_count": null,
   "metadata": {
    "collapsed": true
   },
   "outputs": [],
   "source": []
  },
  {
   "cell_type": "code",
   "execution_count": null,
   "metadata": {},
   "outputs": [],
   "source": [
    "pd.DataFrame(np.stack([ts-ts_mean[0],ts-ts_mean[0]],axis=1))"
   ]
  },
  {
   "cell_type": "code",
   "execution_count": null,
   "metadata": {
    "collapsed": true
   },
   "outputs": [],
   "source": [
    "ts_cov=[ np.cov(np.stack(ts-ts_mean[0],ts[i:]-ts_mean[i]),axis=0) for i in range(ts.shape[0])]"
   ]
  },
  {
   "cell_type": "code",
   "execution_count": null,
   "metadata": {},
   "outputs": [],
   "source": [
    "i=0\n",
    "np.cov(np.stack((ts-ts_mean[0],ts[i:]-ts_mean[i]),axis=0))"
   ]
  },
  {
   "cell_type": "code",
   "execution_count": null,
   "metadata": {},
   "outputs": [],
   "source": [
    "ts"
   ]
  },
  {
   "cell_type": "code",
   "execution_count": null,
   "metadata": {},
   "outputs": [],
   "source": [
    "np.cov(ts)"
   ]
  },
  {
   "cell_type": "code",
   "execution_count": null,
   "metadata": {
    "scrolled": true
   },
   "outputs": [],
   "source": [
    "def time_series_covariance(ts):\n",
    "    "
   ]
  },
  {
   "cell_type": "code",
   "execution_count": null,
   "metadata": {
    "collapsed": true
   },
   "outputs": [],
   "source": []
  },
  {
   "cell_type": "code",
   "execution_count": null,
   "metadata": {
    "collapsed": true
   },
   "outputs": [],
   "source": []
  },
  {
   "cell_type": "code",
   "execution_count": null,
   "metadata": {
    "scrolled": true
   },
   "outputs": [],
   "source": [
    "ts.values.flatten()[10:]"
   ]
  },
  {
   "cell_type": "code",
   "execution_count": null,
   "metadata": {
    "collapsed": true
   },
   "outputs": [],
   "source": [
    "df=pd.DataFrame(columns=list(range(len(ts))))"
   ]
  },
  {
   "cell_type": "code",
   "execution_count": null,
   "metadata": {},
   "outputs": [],
   "source": [
    "ts.values.flatten()[i:]"
   ]
  },
  {
   "cell_type": "code",
   "execution_count": null,
   "metadata": {
    "scrolled": true
   },
   "outputs": [],
   "source": [
    "ts.values.flatten()[i:]"
   ]
  },
  {
   "cell_type": "code",
   "execution_count": null,
   "metadata": {
    "collapsed": true
   },
   "outputs": [],
   "source": [
    "arrary=np.empty(shape=(len(ts),len(ts)))"
   ]
  },
  {
   "cell_type": "code",
   "execution_count": null,
   "metadata": {},
   "outputs": [],
   "source": [
    "arrary[0]"
   ]
  },
  {
   "cell_type": "code",
   "execution_count": null,
   "metadata": {
    "collapsed": true
   },
   "outputs": [],
   "source": [
    "df=pd.DataFrame(np.zeros( shape=(len(ts),len(ts))),columns=list(range(len(ts))))\n",
    "for i in range(len(ts)):\n",
    "    \n"
   ]
  },
  {
   "cell_type": "code",
   "execution_count": null,
   "metadata": {
    "scrolled": true
   },
   "outputs": [],
   "source": [
    "df=pd.DataFrame(np.zeros( shape=(len(ts),len(ts))),columns=list(range(len(ts))))\n",
    "for i in range(len(ts)):\n",
    "    df.iloc[:len(ts)-i,i]=ts.values.flatten()[i:]"
   ]
  },
  {
   "cell_type": "code",
   "execution_count": null,
   "metadata": {
    "scrolled": true
   },
   "outputs": [],
   "source": [
    "# 构造矩阵\n",
    "\n",
    "\n",
    "# 减去均值\n",
    "\n",
    "# 计算方差\n",
    "\n",
    "# 计算协方差\n",
    "# 计算自相关系数\n",
    "\n"
   ]
  },
  {
   "cell_type": "code",
   "execution_count": null,
   "metadata": {
    "collapsed": true
   },
   "outputs": [],
   "source": []
  }
 ],
 "metadata": {
  "kernelspec": {
   "display_name": "Python 3",
   "language": "python",
   "name": "python3"
  },
  "language_info": {
   "codemirror_mode": {
    "name": "ipython",
    "version": 3
   },
   "file_extension": ".py",
   "mimetype": "text/x-python",
   "name": "python",
   "nbconvert_exporter": "python",
   "pygments_lexer": "ipython3",
   "version": "3.6.3"
  }
 },
 "nbformat": 4,
 "nbformat_minor": 2
}
