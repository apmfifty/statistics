{
 "cells": [
  {
   "cell_type": "markdown",
   "metadata": {},
   "source": [
    "# 第三章 平稳时间序列分析"
   ]
  },
  {
   "cell_type": "code",
   "execution_count": 1,
   "metadata": {},
   "outputs": [
    {
     "name": "stderr",
     "output_type": "stream",
     "text": [
      "/Users/pengju/anaconda3/lib/python3.6/importlib/_bootstrap.py:219: RuntimeWarning: numpy.dtype size changed, may indicate binary incompatibility. Expected 96, got 88\n",
      "  return f(*args, **kwds)\n",
      "/Users/pengju/anaconda3/lib/python3.6/importlib/_bootstrap.py:219: RuntimeWarning: numpy.dtype size changed, may indicate binary incompatibility. Expected 96, got 88\n",
      "  return f(*args, **kwds)\n",
      "/Users/pengju/anaconda3/lib/python3.6/importlib/_bootstrap.py:219: RuntimeWarning: numpy.dtype size changed, may indicate binary incompatibility. Expected 96, got 88\n",
      "  return f(*args, **kwds)\n",
      "/Users/pengju/anaconda3/lib/python3.6/importlib/_bootstrap.py:219: RuntimeWarning: numpy.dtype size changed, may indicate binary incompatibility. Expected 96, got 88\n",
      "  return f(*args, **kwds)\n",
      "/Users/pengju/anaconda3/lib/python3.6/importlib/_bootstrap.py:219: RuntimeWarning: numpy.dtype size changed, may indicate binary incompatibility. Expected 96, got 88\n",
      "  return f(*args, **kwds)\n",
      "/Users/pengju/anaconda3/lib/python3.6/site-packages/statsmodels/compat/pandas.py:56: FutureWarning: The pandas.core.datetools module is deprecated and will be removed in a future version. Please use the pandas.tseries module instead.\n",
      "  from pandas.core import datetools\n"
     ]
    }
   ],
   "source": [
    "import pandas as pd\n",
    "import numpy as np\n",
    "import datetime\n",
    "import os\n",
    "\n",
    "import matplotlib as  mpl\n",
    "import matplotlib.pyplot as plt\n",
    "mpl.rcParams[u'font.sans-serif'] = ['simhei']\n",
    "mpl.rcParams['axes.unicode_minus'] = False\n",
    "\n",
    "from statsmodels.tsa.stattools import acf,pacf,adfuller\n",
    "import statsmodels.api as sm\n",
    "from statsmodels.tsa.statespace.sarimax import SARIMAX\n",
    "from statsmodels.tsa.arima_model import ARIMA\n",
    "\n",
    "\n",
    "\n",
    "习题数据=\"./习题与案例数据/习题数据/\"\n",
    "案例数据=\"./习题与案例数据/案例数据/\""
   ]
  },
  {
   "cell_type": "code",
   "execution_count": 2,
   "metadata": {
    "collapsed": true
   },
   "outputs": [],
   "source": [
    "# 使用Q_LB进行白噪音假设\n",
    "def my_Q_LB(ts,out_lags_list=[10],p_threshold=0.05):\n",
    "    from scipy.stats  import  chi2\n",
    "    n=len(ts)\n",
    "    acf_ts=acf(ts,nlags=n)\n",
    "\n",
    "    list_df=[]\n",
    "    for l in out_lags_list:\n",
    "        q_lb=sum([n*(n+2)*acf_ts[k]**2/(n-k)  for k in range(1,l+1) ])\n",
    "        p=1- chi2.cdf(q_lb,l)\n",
    "        tmp_l=[l,q_lb,p,p>p_threshold]\n",
    "        list_df.append(tmp_l)\n",
    "\n",
    "    df=pd.DataFrame(list_df,columns=['延迟期数','Q_LB统计量','P值','接受白噪音假设'])\n",
    "    return df\n",
    "    "
   ]
  },
  {
   "cell_type": "markdown",
   "metadata": {},
   "source": [
    "## 例题3-1"
   ]
  },
  {
   "cell_type": "code",
   "execution_count": 3,
   "metadata": {
    "collapsed": true
   },
   "outputs": [],
   "source": [
    "def create_timeseries(order=(1,0),num=20,p_list=[1],var=1):\n",
    "    p_list=list(reversed(p_list))\n",
    "    p_list+=[0 for i in range(order[0]-len(p_list))]\n",
    "    normal_list=list(np.random.normal(size=num))\n",
    "\n",
    "    ts=[normal_list[i] for i in range(order[0])]\n",
    "    for i in range(order[0],num):\n",
    "        ts.append(sum([m*n for m,n in  zip([ts[i-j-1] for j in range(order[0])], \n",
    "                                           reversed(p_list))])+normal_list[i])\n",
    "    return ts\n",
    "\n",
    "def adf_check_table(ts,max_lag,threshod=0.05):\n",
    "    DICT_REGRESSION={'nc':'类型1',\n",
    "                 'c':'类型2',\n",
    "                 'ct':'类型3'}\n",
    "    list_df=[]\n",
    "    for i_reg in DICT_REGRESSION.keys():\n",
    "        for i in range(max_lag+1):\n",
    "            dftest=adfuller(ts,maxlag=i,regression=i_reg,autolag=None)\n",
    "            dfoutput=pd.Series([DICT_REGRESSION[i_reg],i,'平稳' if dftest[1]<threshod else '非平稳']+list(dftest[0:4]),\n",
    "                               index=['类型','延迟阶数','检验结果','Test Statistic','p-value','Lags Used',\n",
    "            'Number of observations Used'])\n",
    "            for key,value in dftest[4].items():\n",
    "                dfoutput['Critical value(%s)'%key]=value\n",
    "            list_df.append(dfoutput)\n",
    "    return pd.concat(list_df,axis=1).transpose()"
   ]
  },
  {
   "cell_type": "code",
   "execution_count": 4,
   "metadata": {
    "scrolled": true
   },
   "outputs": [
    {
     "data": {
      "image/png": "[encoded data removed]",
      "text/plain": [
       "<matplotlib.figure.Figure at 0x1c112c2fd0>"
      ]
     },
     "metadata": {},
     "output_type": "display_data"
    },
    {
     "data": {
      "text/html": [
       "<div>\n",
       "<style>\n",
       "    .dataframe thead tr:only-child th {\n",
       "        text-align: right;\n",
       "    }\n",
       "\n",
       "    .dataframe thead th {\n",
       "        text-align: left;\n",
       "    }\n",
       "\n",
       "    .dataframe tbody tr th {\n",
       "        vertical-align: top;\n",
       "    }\n",
       "</style>\n",
       "<table border=\"1\" class=\"dataframe\">\n",
       "  <thead>\n",
       "    <tr style=\"text-align: right;\">\n",
       "      <th></th>\n",
       "      <th>类型</th>\n",
       "      <th>延迟阶数</th>\n",
       "      <th>检验结果</th>\n",
       "      <th>Test Statistic</th>\n",
       "      <th>p-value</th>\n",
       "      <th>Lags Used</th>\n",
       "      <th>Number of observations Used</th>\n",
       "      <th>Critical value(1%)</th>\n",
       "      <th>Critical value(5%)</th>\n",
       "      <th>Critical value(10%)</th>\n",
       "    </tr>\n",
       "  </thead>\n",
       "  <tbody>\n",
       "    <tr>\n",
       "      <th>0</th>\n",
       "      <td>类型1</td>\n",
       "      <td>0</td>\n",
       "      <td>平稳</td>\n",
       "      <td>-3.74751</td>\n",
       "      <td>0.000194161</td>\n",
       "      <td>0</td>\n",
       "      <td>99</td>\n",
       "      <td>-2.58869</td>\n",
       "      <td>-1.94402</td>\n",
       "      <td>-1.61439</td>\n",
       "    </tr>\n",
       "    <tr>\n",
       "      <th>1</th>\n",
       "      <td>类型2</td>\n",
       "      <td>0</td>\n",
       "      <td>平稳</td>\n",
       "      <td>-3.75258</td>\n",
       "      <td>0.00343154</td>\n",
       "      <td>0</td>\n",
       "      <td>99</td>\n",
       "      <td>-3.4982</td>\n",
       "      <td>-2.89121</td>\n",
       "      <td>-2.5826</td>\n",
       "    </tr>\n",
       "    <tr>\n",
       "      <th>2</th>\n",
       "      <td>类型3</td>\n",
       "      <td>0</td>\n",
       "      <td>平稳</td>\n",
       "      <td>-4.28826</td>\n",
       "      <td>0.00328099</td>\n",
       "      <td>0</td>\n",
       "      <td>99</td>\n",
       "      <td>-4.05325</td>\n",
       "      <td>-3.45581</td>\n",
       "      <td>-3.15359</td>\n",
       "    </tr>\n",
       "  </tbody>\n",
       "</table>\n",
       "</div>"
      ],
      "text/plain": [
       "    类型 延迟阶数 检验结果 Test Statistic      p-value Lags Used  \\\n",
       "0  类型1    0   平稳       -3.74751  0.000194161         0   \n",
       "1  类型2    0   平稳       -3.75258   0.00343154         0   \n",
       "2  类型3    0   平稳       -4.28826   0.00328099         0   \n",
       "\n",
       "  Number of observations Used Critical value(1%) Critical value(5%)  \\\n",
       "0                          99           -2.58869           -1.94402   \n",
       "1                          99            -3.4982           -2.89121   \n",
       "2                          99           -4.05325           -3.45581   \n",
       "\n",
       "  Critical value(10%)  \n",
       "0            -1.61439  \n",
       "1             -2.5826  \n",
       "2            -3.15359  "
      ]
     },
     "metadata": {},
     "output_type": "display_data"
    },
    {
     "data": {
      "image/png": "[encoded data removed]",
      "text/plain": [
       "<matplotlib.figure.Figure at 0x1c112f7d68>"
      ]
     },
     "metadata": {},
     "output_type": "display_data"
    },
    {
     "data": {
      "text/html": [
       "<div>\n",
       "<style>\n",
       "    .dataframe thead tr:only-child th {\n",
       "        text-align: right;\n",
       "    }\n",
       "\n",
       "    .dataframe thead th {\n",
       "        text-align: left;\n",
       "    }\n",
       "\n",
       "    .dataframe tbody tr th {\n",
       "        vertical-align: top;\n",
       "    }\n",
       "</style>\n",
       "<table border=\"1\" class=\"dataframe\">\n",
       "  <thead>\n",
       "    <tr style=\"text-align: right;\">\n",
       "      <th></th>\n",
       "      <th>类型</th>\n",
       "      <th>延迟阶数</th>\n",
       "      <th>检验结果</th>\n",
       "      <th>Test Statistic</th>\n",
       "      <th>p-value</th>\n",
       "      <th>Lags Used</th>\n",
       "      <th>Number of observations Used</th>\n",
       "      <th>Critical value(1%)</th>\n",
       "      <th>Critical value(5%)</th>\n",
       "      <th>Critical value(10%)</th>\n",
       "    </tr>\n",
       "  </thead>\n",
       "  <tbody>\n",
       "    <tr>\n",
       "      <th>0</th>\n",
       "      <td>类型1</td>\n",
       "      <td>0</td>\n",
       "      <td>平稳</td>\n",
       "      <td>-174698</td>\n",
       "      <td>0</td>\n",
       "      <td>0</td>\n",
       "      <td>99</td>\n",
       "      <td>-2.58869</td>\n",
       "      <td>-1.94402</td>\n",
       "      <td>-1.61439</td>\n",
       "    </tr>\n",
       "    <tr>\n",
       "      <th>1</th>\n",
       "      <td>类型2</td>\n",
       "      <td>0</td>\n",
       "      <td>平稳</td>\n",
       "      <td>-174121</td>\n",
       "      <td>0</td>\n",
       "      <td>0</td>\n",
       "      <td>99</td>\n",
       "      <td>-3.4982</td>\n",
       "      <td>-2.89121</td>\n",
       "      <td>-2.5826</td>\n",
       "    </tr>\n",
       "    <tr>\n",
       "      <th>2</th>\n",
       "      <td>类型3</td>\n",
       "      <td>0</td>\n",
       "      <td>平稳</td>\n",
       "      <td>-174905</td>\n",
       "      <td>0</td>\n",
       "      <td>0</td>\n",
       "      <td>99</td>\n",
       "      <td>-4.05325</td>\n",
       "      <td>-3.45581</td>\n",
       "      <td>-3.15359</td>\n",
       "    </tr>\n",
       "  </tbody>\n",
       "</table>\n",
       "</div>"
      ],
      "text/plain": [
       "    类型 延迟阶数 检验结果 Test Statistic p-value Lags Used Number of observations Used  \\\n",
       "0  类型1    0   平稳        -174698       0         0                          99   \n",
       "1  类型2    0   平稳        -174121       0         0                          99   \n",
       "2  类型3    0   平稳        -174905       0         0                          99   \n",
       "\n",
       "  Critical value(1%) Critical value(5%) Critical value(10%)  \n",
       "0           -2.58869           -1.94402            -1.61439  \n",
       "1            -3.4982           -2.89121             -2.5826  \n",
       "2           -4.05325           -3.45581            -3.15359  "
      ]
     },
     "metadata": {},
     "output_type": "display_data"
    },
    {
     "data": {
      "image/png": "[encoded data removed]",
      "text/plain": [
       "<matplotlib.figure.Figure at 0x1c13474748>"
      ]
     },
     "metadata": {},
     "output_type": "display_data"
    },
    {
     "data": {
      "text/html": [
       "<div>\n",
       "<style>\n",
       "    .dataframe thead tr:only-child th {\n",
       "        text-align: right;\n",
       "    }\n",
       "\n",
       "    .dataframe thead th {\n",
       "        text-align: left;\n",
       "    }\n",
       "\n",
       "    .dataframe tbody tr th {\n",
       "        vertical-align: top;\n",
       "    }\n",
       "</style>\n",
       "<table border=\"1\" class=\"dataframe\">\n",
       "  <thead>\n",
       "    <tr style=\"text-align: right;\">\n",
       "      <th></th>\n",
       "      <th>类型</th>\n",
       "      <th>延迟阶数</th>\n",
       "      <th>检验结果</th>\n",
       "      <th>Test Statistic</th>\n",
       "      <th>p-value</th>\n",
       "      <th>Lags Used</th>\n",
       "      <th>Number of observations Used</th>\n",
       "      <th>Critical value(1%)</th>\n",
       "      <th>Critical value(5%)</th>\n",
       "      <th>Critical value(10%)</th>\n",
       "    </tr>\n",
       "  </thead>\n",
       "  <tbody>\n",
       "    <tr>\n",
       "      <th>0</th>\n",
       "      <td>类型1</td>\n",
       "      <td>0</td>\n",
       "      <td>平稳</td>\n",
       "      <td>-4.04379</td>\n",
       "      <td>6.16125e-05</td>\n",
       "      <td>0</td>\n",
       "      <td>99</td>\n",
       "      <td>-2.58869</td>\n",
       "      <td>-1.94402</td>\n",
       "      <td>-1.61439</td>\n",
       "    </tr>\n",
       "    <tr>\n",
       "      <th>1</th>\n",
       "      <td>类型2</td>\n",
       "      <td>0</td>\n",
       "      <td>平稳</td>\n",
       "      <td>-4.1427</td>\n",
       "      <td>0.000822563</td>\n",
       "      <td>0</td>\n",
       "      <td>99</td>\n",
       "      <td>-3.4982</td>\n",
       "      <td>-2.89121</td>\n",
       "      <td>-2.5826</td>\n",
       "    </tr>\n",
       "    <tr>\n",
       "      <th>2</th>\n",
       "      <td>类型3</td>\n",
       "      <td>0</td>\n",
       "      <td>平稳</td>\n",
       "      <td>-4.12319</td>\n",
       "      <td>0.00583036</td>\n",
       "      <td>0</td>\n",
       "      <td>99</td>\n",
       "      <td>-4.05325</td>\n",
       "      <td>-3.45581</td>\n",
       "      <td>-3.15359</td>\n",
       "    </tr>\n",
       "  </tbody>\n",
       "</table>\n",
       "</div>"
      ],
      "text/plain": [
       "    类型 延迟阶数 检验结果 Test Statistic      p-value Lags Used  \\\n",
       "0  类型1    0   平稳       -4.04379  6.16125e-05         0   \n",
       "1  类型2    0   平稳        -4.1427  0.000822563         0   \n",
       "2  类型3    0   平稳       -4.12319   0.00583036         0   \n",
       "\n",
       "  Number of observations Used Critical value(1%) Critical value(5%)  \\\n",
       "0                          99           -2.58869           -1.94402   \n",
       "1                          99            -3.4982           -2.89121   \n",
       "2                          99           -4.05325           -3.45581   \n",
       "\n",
       "  Critical value(10%)  \n",
       "0            -1.61439  \n",
       "1             -2.5826  \n",
       "2            -3.15359  "
      ]
     },
     "metadata": {},
     "output_type": "display_data"
    },
    {
     "data": {
      "image/png": "[encoded data removed]",
      "text/plain": [
       "<matplotlib.figure.Figure at 0x1c11347710>"
      ]
     },
     "metadata": {},
     "output_type": "display_data"
    },
    {
     "data": {
      "text/html": [
       "<div>\n",
       "<style>\n",
       "    .dataframe thead tr:only-child th {\n",
       "        text-align: right;\n",
       "    }\n",
       "\n",
       "    .dataframe thead th {\n",
       "        text-align: left;\n",
       "    }\n",
       "\n",
       "    .dataframe tbody tr th {\n",
       "        vertical-align: top;\n",
       "    }\n",
       "</style>\n",
       "<table border=\"1\" class=\"dataframe\">\n",
       "  <thead>\n",
       "    <tr style=\"text-align: right;\">\n",
       "      <th></th>\n",
       "      <th>类型</th>\n",
       "      <th>延迟阶数</th>\n",
       "      <th>检验结果</th>\n",
       "      <th>Test Statistic</th>\n",
       "      <th>p-value</th>\n",
       "      <th>Lags Used</th>\n",
       "      <th>Number of observations Used</th>\n",
       "      <th>Critical value(1%)</th>\n",
       "      <th>Critical value(5%)</th>\n",
       "      <th>Critical value(10%)</th>\n",
       "    </tr>\n",
       "  </thead>\n",
       "  <tbody>\n",
       "    <tr>\n",
       "      <th>0</th>\n",
       "      <td>类型1</td>\n",
       "      <td>0</td>\n",
       "      <td>非平稳</td>\n",
       "      <td>8.76093e+12</td>\n",
       "      <td>1</td>\n",
       "      <td>0</td>\n",
       "      <td>99</td>\n",
       "      <td>-2.58869</td>\n",
       "      <td>-1.94402</td>\n",
       "      <td>-1.61439</td>\n",
       "    </tr>\n",
       "    <tr>\n",
       "      <th>1</th>\n",
       "      <td>类型2</td>\n",
       "      <td>0</td>\n",
       "      <td>非平稳</td>\n",
       "      <td>8.44128e+12</td>\n",
       "      <td>1</td>\n",
       "      <td>0</td>\n",
       "      <td>99</td>\n",
       "      <td>-3.4982</td>\n",
       "      <td>-2.89121</td>\n",
       "      <td>-2.5826</td>\n",
       "    </tr>\n",
       "    <tr>\n",
       "      <th>2</th>\n",
       "      <td>类型3</td>\n",
       "      <td>0</td>\n",
       "      <td>非平稳</td>\n",
       "      <td>7.5921e+12</td>\n",
       "      <td>1</td>\n",
       "      <td>0</td>\n",
       "      <td>99</td>\n",
       "      <td>-4.05325</td>\n",
       "      <td>-3.45581</td>\n",
       "      <td>-3.15359</td>\n",
       "    </tr>\n",
       "  </tbody>\n",
       "</table>\n",
       "</div>"
      ],
      "text/plain": [
       "    类型 延迟阶数 检验结果 Test Statistic p-value Lags Used Number of observations Used  \\\n",
       "0  类型1    0  非平稳    8.76093e+12       1         0                          99   \n",
       "1  类型2    0  非平稳    8.44128e+12       1         0                          99   \n",
       "2  类型3    0  非平稳     7.5921e+12       1         0                          99   \n",
       "\n",
       "  Critical value(1%) Critical value(5%) Critical value(10%)  \n",
       "0           -2.58869           -1.94402            -1.61439  \n",
       "1            -3.4982           -2.89121             -2.5826  \n",
       "2           -4.05325           -3.45581            -3.15359  "
      ]
     },
     "metadata": {},
     "output_type": "display_data"
    }
   ],
   "source": [
    "ts1=create_timeseries(order=(1,0),num=100,p_list=[0.8])\n",
    "plt.plot(ts1)\n",
    "plt.show()\n",
    "display(adf_check_table(ts1,max_lag=0))\n",
    "\n",
    "ts2=create_timeseries(order=(1,0),num=100,p_list=[-1.1])\n",
    "plt.plot(ts2)\n",
    "plt.show()\n",
    "display(adf_check_table(ts2,max_lag=0))\n",
    "\n",
    "\n",
    "ts3=create_timeseries(order=(2,0),num=100,p_list=[1,-0.5])\n",
    "plt.plot(ts3)\n",
    "plt.show()\n",
    "display(adf_check_table(ts3,max_lag=0))\n",
    "\n",
    "ts4=create_timeseries(order=(2,0),num=100,p_list=[1,0.5])\n",
    "plt.plot(ts4)\n",
    "plt.show()\n",
    "display(adf_check_table(ts4,max_lag=0))"
   ]
  },
  {
   "cell_type": "markdown",
   "metadata": {},
   "source": [
    "## 3-5 自相关图\n",
    "- AR pacf 明显截尾性"
   ]
  },
  {
   "cell_type": "code",
   "execution_count": 5,
   "metadata": {
    "scrolled": true
   },
   "outputs": [
    {
     "data": {
      "image/png": "[encoded data removed]",
      "text/plain": [
       "<matplotlib.figure.Figure at 0x1c112f75c0>"
      ]
     },
     "metadata": {},
     "output_type": "display_data"
    },
    {
     "data": {
      "image/png": "[encoded data removed]",
      "text/plain": [
       "<matplotlib.figure.Figure at 0x1c112f75f8>"
      ]
     },
     "metadata": {},
     "output_type": "display_data"
    },
    {
     "data": {
      "image/png": "[encoded data removed]",
      "text/plain": [
       "<matplotlib.figure.Figure at 0x1c135c0a58>"
      ]
     },
     "metadata": {},
     "output_type": "display_data"
    },
    {
     "data": {
      "image/png": "[encoded data removed]",
      "text/plain": [
       "<matplotlib.figure.Figure at 0x1c135c0f98>"
      ]
     },
     "metadata": {},
     "output_type": "display_data"
    },
    {
     "data": {
      "image/png": "[encoded data removed]",
      "text/plain": [
       "<matplotlib.figure.Figure at 0x1c13757fd0>"
      ]
     },
     "metadata": {},
     "output_type": "display_data"
    },
    {
     "data": {
      "image/png": "[encoded data removed]",
      "text/plain": [
       "<matplotlib.figure.Figure at 0x1c13757128>"
      ]
     },
     "metadata": {},
     "output_type": "display_data"
    },
    {
     "data": {
      "image/png": "[encoded data removed]",
      "text/plain": [
       "<matplotlib.figure.Figure at 0x1c1379a780>"
      ]
     },
     "metadata": {},
     "output_type": "display_data"
    },
    {
     "data": {
      "image/png": "[encoded data removed]",
      "text/plain": [
       "<matplotlib.figure.Figure at 0x1c1379af98>"
      ]
     },
     "metadata": {},
     "output_type": "display_data"
    }
   ],
   "source": [
    "sm.graphics.tsa.plot_acf(ts1,lags=20)\n",
    "sm.graphics.tsa.plot_pacf(ts1,lags=20)\n",
    "plt.show()\n",
    "sm.graphics.tsa.plot_acf(ts2,lags=20)\n",
    "sm.graphics.tsa.plot_pacf(ts2,lags=20)\n",
    "plt.show()\n",
    "sm.graphics.tsa.plot_acf(ts3,lags=20)\n",
    "sm.graphics.tsa.plot_pacf(ts3,lags=20)\n",
    "plt.show()\n",
    "sm.graphics.tsa.plot_acf(ts4,lags=20)\n",
    "sm.graphics.tsa.plot_pacf(ts4,lags=20)\n",
    "plt.show()"
   ]
  },
  {
   "cell_type": "markdown",
   "metadata": {},
   "source": [
    "# 3-9 新增里程数"
   ]
  },
  {
   "cell_type": "code",
   "execution_count": 6,
   "metadata": {
    "scrolled": true
   },
   "outputs": [
    {
     "data": {
      "image/png": "[encoded data removed]",
      "text/plain": [
       "<matplotlib.figure.Figure at 0x1c1397bef0>"
      ]
     },
     "metadata": {},
     "output_type": "display_data"
    },
    {
     "data": {
      "image/png": "[encoded data removed]",
      "text/plain": [
       "<matplotlib.figure.Figure at 0x1c13a06e10>"
      ]
     },
     "metadata": {},
     "output_type": "display_data"
    },
    {
     "data": {
      "image/png": "[encoded data removed]",
      "text/plain": [
       "<matplotlib.figure.Figure at 0x1c13e81278>"
      ]
     },
     "metadata": {},
     "output_type": "display_data"
    }
   ],
   "source": [
    "新增里程数=pd.read_excel(os.path.join(案例数据,\"附录1.8.xlsx\"))\n",
    "新增里程数['年份']=pd.to_datetime(新增里程数['年份'],format='%Y')\n",
    "新增里程数.set_index('年份',inplace=True)\n",
    "新增里程数.plot(marker='*')\n",
    "plt.show()\n",
    "sm.graphics.tsa.plot_acf(新增里程数,lags=20)\n",
    "sm.graphics.tsa.plot_pacf(新增里程数,lags=20)\n",
    "plt.show()\n"
   ]
  },
  {
   "cell_type": "markdown",
   "metadata": {},
   "source": [
    "- 明显偏相关系数二阶断尾-->说明是AR(2)"
   ]
  },
  {
   "cell_type": "markdown",
   "metadata": {},
   "source": [
    "# 3-10 加油站"
   ]
  },
  {
   "cell_type": "code",
   "execution_count": 7,
   "metadata": {
    "scrolled": true
   },
   "outputs": [
    {
     "data": {
      "image/png": "[encoded data removed]",
      "text/plain": [
       "<matplotlib.figure.Figure at 0x1c13fe6828>"
      ]
     },
     "metadata": {},
     "output_type": "display_data"
    },
    {
     "data": {
      "image/png": "[encoded data removed]",
      "text/plain": [
       "<matplotlib.figure.Figure at 0x1c137fcc18>"
      ]
     },
     "metadata": {},
     "output_type": "display_data"
    },
    {
     "data": {
      "image/png": "[encoded data removed]",
      "text/plain": [
       "<matplotlib.figure.Figure at 0x1c14099e48>"
      ]
     },
     "metadata": {},
     "output_type": "display_data"
    }
   ],
   "source": [
    "加油站=pd.read_excel(os.path.join(案例数据,\"附录1.9.xlsx\"))\n",
    "加油站.set_index('day',inplace=True)\n",
    "加油站.index=[datetime.datetime(2000,1,1)+datetime.timedelta(days=int(i)) for i in 加油站.index]\n",
    "加油站.plot(marker='*')\n",
    "plt.show()\n",
    "sm.graphics.tsa.plot_acf(加油站,lags=20)\n",
    "sm.graphics.tsa.plot_pacf(加油站,lags=20)\n",
    "plt.show()\n"
   ]
  },
  {
   "cell_type": "markdown",
   "metadata": {},
   "source": [
    "- 明显自相关系数一阶断尾-->说明是MA(1)"
   ]
  },
  {
   "cell_type": "markdown",
   "metadata": {},
   "source": [
    "# 3-11  气温"
   ]
  },
  {
   "cell_type": "code",
   "execution_count": 8,
   "metadata": {
    "scrolled": true
   },
   "outputs": [
    {
     "data": {
      "image/png": "[encoded data removed]",
      "text/plain": [
       "<matplotlib.figure.Figure at 0x1c13eeebe0>"
      ]
     },
     "metadata": {},
     "output_type": "display_data"
    },
    {
     "data": {
      "image/png": "[encoded data removed]",
      "text/plain": [
       "<matplotlib.figure.Figure at 0x1c136a8710>"
      ]
     },
     "metadata": {},
     "output_type": "display_data"
    },
    {
     "data": {
      "image/png": "[encoded data removed]",
      "text/plain": [
       "<matplotlib.figure.Figure at 0x1c136a8550>"
      ]
     },
     "metadata": {},
     "output_type": "display_data"
    }
   ],
   "source": [
    "全球气温=pd.read_excel(os.path.join(案例数据,\"附录1.10.xlsx\"))\n",
    "全球气温['year']=pd.to_datetime(全球气温['year'],format='%Y')\n",
    "全球气温.set_index('year',inplace=True)\n",
    "全球气温差分=全球气温.diff().dropna()\n",
    "全球气温差分.plot(marker='*')\n",
    "plt.show()\n",
    "sm.graphics.tsa.plot_acf(全球气温差分,lags=20)\n",
    "sm.graphics.tsa.plot_pacf(全球气温差分,lags=20)\n",
    "plt.show()\n"
   ]
  },
  {
   "cell_type": "markdown",
   "metadata": {},
   "source": [
    "- 一阶差分后，自相关一阶断尾 MA(1) AR(1)"
   ]
  },
  {
   "cell_type": "markdown",
   "metadata": {},
   "source": [
    "# 模型校验 \n",
    "- 模型的显著性校验  检验残差序列是不是白噪声\n",
    "- 参数显著性校验"
   ]
  },
  {
   "cell_type": "code",
   "execution_count": 16,
   "metadata": {
    "scrolled": true
   },
   "outputs": [
    {
     "data": {
      "text/html": [
       "<div>\n",
       "<style>\n",
       "    .dataframe thead tr:only-child th {\n",
       "        text-align: right;\n",
       "    }\n",
       "\n",
       "    .dataframe thead th {\n",
       "        text-align: left;\n",
       "    }\n",
       "\n",
       "    .dataframe tbody tr th {\n",
       "        vertical-align: top;\n",
       "    }\n",
       "</style>\n",
       "<table border=\"1\" class=\"dataframe\">\n",
       "  <thead>\n",
       "    <tr style=\"text-align: right;\">\n",
       "      <th></th>\n",
       "      <th>新增里程数</th>\n",
       "    </tr>\n",
       "    <tr>\n",
       "      <th>年份</th>\n",
       "      <th></th>\n",
       "    </tr>\n",
       "  </thead>\n",
       "  <tbody>\n",
       "    <tr>\n",
       "      <th>1950-01-01</th>\n",
       "      <td>15.7054</td>\n",
       "    </tr>\n",
       "    <tr>\n",
       "      <th>1951-01-01</th>\n",
       "      <td>24.4300</td>\n",
       "    </tr>\n",
       "    <tr>\n",
       "      <th>1952-01-01</th>\n",
       "      <td>18.2327</td>\n",
       "    </tr>\n",
       "    <tr>\n",
       "      <th>1953-01-01</th>\n",
       "      <td>22.4973</td>\n",
       "    </tr>\n",
       "    <tr>\n",
       "      <th>1954-01-01</th>\n",
       "      <td>12.5300</td>\n",
       "    </tr>\n",
       "    <tr>\n",
       "      <th>1955-01-01</th>\n",
       "      <td>9.9400</td>\n",
       "    </tr>\n",
       "    <tr>\n",
       "      <th>1956-01-01</th>\n",
       "      <td>7.1900</td>\n",
       "    </tr>\n",
       "    <tr>\n",
       "      <th>1957-01-01</th>\n",
       "      <td>41.1320</td>\n",
       "    </tr>\n",
       "    <tr>\n",
       "      <th>1958-01-01</th>\n",
       "      <td>79.0280</td>\n",
       "    </tr>\n",
       "    <tr>\n",
       "      <th>1959-01-01</th>\n",
       "      <td>119.3200</td>\n",
       "    </tr>\n",
       "    <tr>\n",
       "      <th>1960-01-01</th>\n",
       "      <td>-12.1000</td>\n",
       "    </tr>\n",
       "    <tr>\n",
       "      <th>1961-01-01</th>\n",
       "      <td>-89.7100</td>\n",
       "    </tr>\n",
       "    <tr>\n",
       "      <th>1962-01-01</th>\n",
       "      <td>-52.2552</td>\n",
       "    </tr>\n",
       "    <tr>\n",
       "      <th>1963-01-01</th>\n",
       "      <td>20.0052</td>\n",
       "    </tr>\n",
       "    <tr>\n",
       "      <th>1964-01-01</th>\n",
       "      <td>19.9200</td>\n",
       "    </tr>\n",
       "    <tr>\n",
       "      <th>1965-01-01</th>\n",
       "      <td>42.8066</td>\n",
       "    </tr>\n",
       "    <tr>\n",
       "      <th>1966-01-01</th>\n",
       "      <td>18.7834</td>\n",
       "    </tr>\n",
       "    <tr>\n",
       "      <th>1967-01-01</th>\n",
       "      <td>-0.7500</td>\n",
       "    </tr>\n",
       "    <tr>\n",
       "      <th>1968-01-01</th>\n",
       "      <td>-1.0800</td>\n",
       "    </tr>\n",
       "    <tr>\n",
       "      <th>1969-01-01</th>\n",
       "      <td>5.0900</td>\n",
       "    </tr>\n",
       "    <tr>\n",
       "      <th>1970-01-01</th>\n",
       "      <td>26.3904</td>\n",
       "    </tr>\n",
       "    <tr>\n",
       "      <th>1971-01-01</th>\n",
       "      <td>31.0896</td>\n",
       "    </tr>\n",
       "    <tr>\n",
       "      <th>1972-01-01</th>\n",
       "      <td>19.7800</td>\n",
       "    </tr>\n",
       "    <tr>\n",
       "      <th>1973-01-01</th>\n",
       "      <td>2.5600</td>\n",
       "    </tr>\n",
       "    <tr>\n",
       "      <th>1974-01-01</th>\n",
       "      <td>12.9500</td>\n",
       "    </tr>\n",
       "    <tr>\n",
       "      <th>1975-01-01</th>\n",
       "      <td>15.5398</td>\n",
       "    </tr>\n",
       "    <tr>\n",
       "      <th>1976-01-01</th>\n",
       "      <td>3.9702</td>\n",
       "    </tr>\n",
       "    <tr>\n",
       "      <th>1977-01-01</th>\n",
       "      <td>2.4200</td>\n",
       "    </tr>\n",
       "    <tr>\n",
       "      <th>1978-01-01</th>\n",
       "      <td>0.3082</td>\n",
       "    </tr>\n",
       "    <tr>\n",
       "      <th>1979-01-01</th>\n",
       "      <td>-5.0982</td>\n",
       "    </tr>\n",
       "    <tr>\n",
       "      <th>1980-01-01</th>\n",
       "      <td>-7.5176</td>\n",
       "    </tr>\n",
       "    <tr>\n",
       "      <th>1981-01-01</th>\n",
       "      <td>-7.6924</td>\n",
       "    </tr>\n",
       "    <tr>\n",
       "      <th>1982-01-01</th>\n",
       "      <td>1.6100</td>\n",
       "    </tr>\n",
       "    <tr>\n",
       "      <th>1983-01-01</th>\n",
       "      <td>4.4600</td>\n",
       "    </tr>\n",
       "    <tr>\n",
       "      <th>1984-01-01</th>\n",
       "      <td>10.9690</td>\n",
       "    </tr>\n",
       "    <tr>\n",
       "      <th>1985-01-01</th>\n",
       "      <td>15.1471</td>\n",
       "    </tr>\n",
       "    <tr>\n",
       "      <th>1986-01-01</th>\n",
       "      <td>5.9968</td>\n",
       "    </tr>\n",
       "    <tr>\n",
       "      <th>1987-01-01</th>\n",
       "      <td>-0.9028</td>\n",
       "    </tr>\n",
       "    <tr>\n",
       "      <th>1988-01-01</th>\n",
       "      <td>-3.2181</td>\n",
       "    </tr>\n",
       "    <tr>\n",
       "      <th>1989-01-01</th>\n",
       "      <td>-8.5373</td>\n",
       "    </tr>\n",
       "    <tr>\n",
       "      <th>1990-01-01</th>\n",
       "      <td>6.7614</td>\n",
       "    </tr>\n",
       "    <tr>\n",
       "      <th>1991-01-01</th>\n",
       "      <td>-0.8293</td>\n",
       "    </tr>\n",
       "    <tr>\n",
       "      <th>1992-01-01</th>\n",
       "      <td>4.6719</td>\n",
       "    </tr>\n",
       "    <tr>\n",
       "      <th>1993-01-01</th>\n",
       "      <td>11.6788</td>\n",
       "    </tr>\n",
       "    <tr>\n",
       "      <th>1994-01-01</th>\n",
       "      <td>0.8242</td>\n",
       "    </tr>\n",
       "    <tr>\n",
       "      <th>1995-01-01</th>\n",
       "      <td>8.5413</td>\n",
       "    </tr>\n",
       "    <tr>\n",
       "      <th>1996-01-01</th>\n",
       "      <td>24.5061</td>\n",
       "    </tr>\n",
       "    <tr>\n",
       "      <th>1997-01-01</th>\n",
       "      <td>28.9063</td>\n",
       "    </tr>\n",
       "    <tr>\n",
       "      <th>1998-01-01</th>\n",
       "      <td>44.9372</td>\n",
       "    </tr>\n",
       "    <tr>\n",
       "      <th>1999-01-01</th>\n",
       "      <td>11.1635</td>\n",
       "    </tr>\n",
       "    <tr>\n",
       "      <th>2000-01-01</th>\n",
       "      <td>11.0768</td>\n",
       "    </tr>\n",
       "    <tr>\n",
       "      <th>2001-01-01</th>\n",
       "      <td>15.7490</td>\n",
       "    </tr>\n",
       "    <tr>\n",
       "      <th>2002-01-01</th>\n",
       "      <td>-0.3140</td>\n",
       "    </tr>\n",
       "    <tr>\n",
       "      <th>2003-01-01</th>\n",
       "      <td>20.9862</td>\n",
       "    </tr>\n",
       "    <tr>\n",
       "      <th>2004-01-01</th>\n",
       "      <td>6.4959</td>\n",
       "    </tr>\n",
       "    <tr>\n",
       "      <th>2005-01-01</th>\n",
       "      <td>10.4452</td>\n",
       "    </tr>\n",
       "    <tr>\n",
       "      <th>2006-01-01</th>\n",
       "      <td>-3.5078</td>\n",
       "    </tr>\n",
       "    <tr>\n",
       "      <th>2007-01-01</th>\n",
       "      <td>23.4159</td>\n",
       "    </tr>\n",
       "    <tr>\n",
       "      <th>2008-01-01</th>\n",
       "      <td>17.9867</td>\n",
       "    </tr>\n",
       "  </tbody>\n",
       "</table>\n",
       "</div>"
      ],
      "text/plain": [
       "               新增里程数\n",
       "年份                  \n",
       "1950-01-01   15.7054\n",
       "1951-01-01   24.4300\n",
       "1952-01-01   18.2327\n",
       "1953-01-01   22.4973\n",
       "1954-01-01   12.5300\n",
       "1955-01-01    9.9400\n",
       "1956-01-01    7.1900\n",
       "1957-01-01   41.1320\n",
       "1958-01-01   79.0280\n",
       "1959-01-01  119.3200\n",
       "1960-01-01  -12.1000\n",
       "1961-01-01  -89.7100\n",
       "1962-01-01  -52.2552\n",
       "1963-01-01   20.0052\n",
       "1964-01-01   19.9200\n",
       "1965-01-01   42.8066\n",
       "1966-01-01   18.7834\n",
       "1967-01-01   -0.7500\n",
       "1968-01-01   -1.0800\n",
       "1969-01-01    5.0900\n",
       "1970-01-01   26.3904\n",
       "1971-01-01   31.0896\n",
       "1972-01-01   19.7800\n",
       "1973-01-01    2.5600\n",
       "1974-01-01   12.9500\n",
       "1975-01-01   15.5398\n",
       "1976-01-01    3.9702\n",
       "1977-01-01    2.4200\n",
       "1978-01-01    0.3082\n",
       "1979-01-01   -5.0982\n",
       "1980-01-01   -7.5176\n",
       "1981-01-01   -7.6924\n",
       "1982-01-01    1.6100\n",
       "1983-01-01    4.4600\n",
       "1984-01-01   10.9690\n",
       "1985-01-01   15.1471\n",
       "1986-01-01    5.9968\n",
       "1987-01-01   -0.9028\n",
       "1988-01-01   -3.2181\n",
       "1989-01-01   -8.5373\n",
       "1990-01-01    6.7614\n",
       "1991-01-01   -0.8293\n",
       "1992-01-01    4.6719\n",
       "1993-01-01   11.6788\n",
       "1994-01-01    0.8242\n",
       "1995-01-01    8.5413\n",
       "1996-01-01   24.5061\n",
       "1997-01-01   28.9063\n",
       "1998-01-01   44.9372\n",
       "1999-01-01   11.1635\n",
       "2000-01-01   11.0768\n",
       "2001-01-01   15.7490\n",
       "2002-01-01   -0.3140\n",
       "2003-01-01   20.9862\n",
       "2004-01-01    6.4959\n",
       "2005-01-01   10.4452\n",
       "2006-01-01   -3.5078\n",
       "2007-01-01   23.4159\n",
       "2008-01-01   17.9867"
      ]
     },
     "execution_count": 16,
     "metadata": {},
     "output_type": "execute_result"
    }
   ],
   "source": [
    "新增里程数"
   ]
  },
  {
   "cell_type": "code",
   "execution_count": 20,
   "metadata": {
    "scrolled": true
   },
   "outputs": [
    {
     "data": {
      "text/html": [
       "<div>\n",
       "<style>\n",
       "    .dataframe thead tr:only-child th {\n",
       "        text-align: right;\n",
       "    }\n",
       "\n",
       "    .dataframe thead th {\n",
       "        text-align: left;\n",
       "    }\n",
       "\n",
       "    .dataframe tbody tr th {\n",
       "        vertical-align: top;\n",
       "    }\n",
       "</style>\n",
       "<table border=\"1\" class=\"dataframe\">\n",
       "  <thead>\n",
       "    <tr style=\"text-align: right;\">\n",
       "      <th></th>\n",
       "      <th>新增里程数</th>\n",
       "    </tr>\n",
       "    <tr>\n",
       "      <th>年份</th>\n",
       "      <th></th>\n",
       "    </tr>\n",
       "  </thead>\n",
       "  <tbody>\n",
       "    <tr>\n",
       "      <th>1950-01-01</th>\n",
       "      <td>NaN</td>\n",
       "    </tr>\n",
       "    <tr>\n",
       "      <th>1951-01-01</th>\n",
       "      <td>NaN</td>\n",
       "    </tr>\n",
       "    <tr>\n",
       "      <th>1952-01-01</th>\n",
       "      <td>8.993341</td>\n",
       "    </tr>\n",
       "    <tr>\n",
       "      <th>1953-01-01</th>\n",
       "      <td>22.329985</td>\n",
       "    </tr>\n",
       "    <tr>\n",
       "      <th>1954-01-01</th>\n",
       "      <td>6.017384</td>\n",
       "    </tr>\n",
       "    <tr>\n",
       "      <th>1955-01-01</th>\n",
       "      <td>12.847137</td>\n",
       "    </tr>\n",
       "    <tr>\n",
       "      <th>1956-01-01</th>\n",
       "      <td>6.681278</td>\n",
       "    </tr>\n",
       "    <tr>\n",
       "      <th>1957-01-01</th>\n",
       "      <td>41.228085</td>\n",
       "    </tr>\n",
       "    <tr>\n",
       "      <th>1958-01-01</th>\n",
       "      <td>53.279221</td>\n",
       "    </tr>\n",
       "    <tr>\n",
       "      <th>1959-01-01</th>\n",
       "      <td>84.310733</td>\n",
       "    </tr>\n",
       "    <tr>\n",
       "      <th>1960-01-01</th>\n",
       "      <td>-55.998065</td>\n",
       "    </tr>\n",
       "    <tr>\n",
       "      <th>1961-01-01</th>\n",
       "      <td>-17.845055</td>\n",
       "    </tr>\n",
       "    <tr>\n",
       "      <th>1962-01-01</th>\n",
       "      <td>5.799747</td>\n",
       "    </tr>\n",
       "    <tr>\n",
       "      <th>1963-01-01</th>\n",
       "      <td>10.058712</td>\n",
       "    </tr>\n",
       "    <tr>\n",
       "      <th>1964-01-01</th>\n",
       "      <td>-22.119697</td>\n",
       "    </tr>\n",
       "    <tr>\n",
       "      <th>1965-01-01</th>\n",
       "      <td>39.084297</td>\n",
       "    </tr>\n",
       "    <tr>\n",
       "      <th>1966-01-01</th>\n",
       "      <td>-1.429130</td>\n",
       "    </tr>\n",
       "    <tr>\n",
       "      <th>1967-01-01</th>\n",
       "      <td>8.415938</td>\n",
       "    </tr>\n",
       "    <tr>\n",
       "      <th>1968-01-01</th>\n",
       "      <td>9.403237</td>\n",
       "    </tr>\n",
       "    <tr>\n",
       "      <th>1969-01-01</th>\n",
       "      <td>5.468966</td>\n",
       "    </tr>\n",
       "    <tr>\n",
       "      <th>1970-01-01</th>\n",
       "      <td>22.161216</td>\n",
       "    </tr>\n",
       "    <tr>\n",
       "      <th>1971-01-01</th>\n",
       "      <td>14.821584</td>\n",
       "    </tr>\n",
       "    <tr>\n",
       "      <th>1972-01-01</th>\n",
       "      <td>11.412262</td>\n",
       "    </tr>\n",
       "    <tr>\n",
       "      <th>1973-01-01</th>\n",
       "      <td>4.806608</td>\n",
       "    </tr>\n",
       "    <tr>\n",
       "      <th>1974-01-01</th>\n",
       "      <td>21.582464</td>\n",
       "    </tr>\n",
       "    <tr>\n",
       "      <th>1975-01-01</th>\n",
       "      <td>7.589921</td>\n",
       "    </tr>\n",
       "    <tr>\n",
       "      <th>1976-01-01</th>\n",
       "      <td>-0.339890</td>\n",
       "    </tr>\n",
       "    <tr>\n",
       "      <th>1977-01-01</th>\n",
       "      <td>7.794317</td>\n",
       "    </tr>\n",
       "    <tr>\n",
       "      <th>1978-01-01</th>\n",
       "      <td>0.671221</td>\n",
       "    </tr>\n",
       "    <tr>\n",
       "      <th>1979-01-01</th>\n",
       "      <td>-4.038458</td>\n",
       "    </tr>\n",
       "    <tr>\n",
       "      <th>1980-01-01</th>\n",
       "      <td>-3.691131</td>\n",
       "    </tr>\n",
       "    <tr>\n",
       "      <th>1981-01-01</th>\n",
       "      <td>-4.989738</td>\n",
       "    </tr>\n",
       "    <tr>\n",
       "      <th>1982-01-01</th>\n",
       "      <td>3.157383</td>\n",
       "    </tr>\n",
       "    <tr>\n",
       "      <th>1983-01-01</th>\n",
       "      <td>-0.769380</td>\n",
       "    </tr>\n",
       "    <tr>\n",
       "      <th>1984-01-01</th>\n",
       "      <td>8.616644</td>\n",
       "    </tr>\n",
       "    <tr>\n",
       "      <th>1985-01-01</th>\n",
       "      <td>9.626565</td>\n",
       "    </tr>\n",
       "    <tr>\n",
       "      <th>1986-01-01</th>\n",
       "      <td>0.920101</td>\n",
       "    </tr>\n",
       "    <tr>\n",
       "      <th>1987-01-01</th>\n",
       "      <td>2.807404</td>\n",
       "    </tr>\n",
       "    <tr>\n",
       "      <th>1988-01-01</th>\n",
       "      <td>0.605437</td>\n",
       "    </tr>\n",
       "    <tr>\n",
       "      <th>1989-01-01</th>\n",
       "      <td>-6.702902</td>\n",
       "    </tr>\n",
       "    <tr>\n",
       "      <th>1990-01-01</th>\n",
       "      <td>11.192130</td>\n",
       "    </tr>\n",
       "    <tr>\n",
       "      <th>1991-01-01</th>\n",
       "      <td>-10.207516</td>\n",
       "    </tr>\n",
       "    <tr>\n",
       "      <th>1992-01-01</th>\n",
       "      <td>8.847419</td>\n",
       "    </tr>\n",
       "    <tr>\n",
       "      <th>1993-01-01</th>\n",
       "      <td>7.882767</td>\n",
       "    </tr>\n",
       "    <tr>\n",
       "      <th>1994-01-01</th>\n",
       "      <td>-5.094176</td>\n",
       "    </tr>\n",
       "    <tr>\n",
       "      <th>1995-01-01</th>\n",
       "      <td>14.132075</td>\n",
       "    </tr>\n",
       "    <tr>\n",
       "      <th>1996-01-01</th>\n",
       "      <td>18.805115</td>\n",
       "    </tr>\n",
       "    <tr>\n",
       "      <th>1997-01-01</th>\n",
       "      <td>15.819434</td>\n",
       "    </tr>\n",
       "    <tr>\n",
       "      <th>1998-01-01</th>\n",
       "      <td>37.140680</td>\n",
       "    </tr>\n",
       "    <tr>\n",
       "      <th>1999-01-01</th>\n",
       "      <td>-5.822433</td>\n",
       "    </tr>\n",
       "    <tr>\n",
       "      <th>2000-01-01</th>\n",
       "      <td>26.845987</td>\n",
       "    </tr>\n",
       "    <tr>\n",
       "      <th>2001-01-01</th>\n",
       "      <td>13.699979</td>\n",
       "    </tr>\n",
       "    <tr>\n",
       "      <th>2002-01-01</th>\n",
       "      <td>-5.766122</td>\n",
       "    </tr>\n",
       "    <tr>\n",
       "      <th>2003-01-01</th>\n",
       "      <td>29.549675</td>\n",
       "    </tr>\n",
       "    <tr>\n",
       "      <th>2004-01-01</th>\n",
       "      <td>-8.749930</td>\n",
       "    </tr>\n",
       "    <tr>\n",
       "      <th>2005-01-01</th>\n",
       "      <td>16.888119</td>\n",
       "    </tr>\n",
       "    <tr>\n",
       "      <th>2006-01-01</th>\n",
       "      <td>-7.574112</td>\n",
       "    </tr>\n",
       "    <tr>\n",
       "      <th>2007-01-01</th>\n",
       "      <td>31.466331</td>\n",
       "    </tr>\n",
       "    <tr>\n",
       "      <th>2008-01-01</th>\n",
       "      <td>-0.695851</td>\n",
       "    </tr>\n",
       "  </tbody>\n",
       "</table>\n",
       "</div>"
      ],
      "text/plain": [
       "                新增里程数\n",
       "年份                   \n",
       "1950-01-01        NaN\n",
       "1951-01-01        NaN\n",
       "1952-01-01   8.993341\n",
       "1953-01-01  22.329985\n",
       "1954-01-01   6.017384\n",
       "1955-01-01  12.847137\n",
       "1956-01-01   6.681278\n",
       "1957-01-01  41.228085\n",
       "1958-01-01  53.279221\n",
       "1959-01-01  84.310733\n",
       "1960-01-01 -55.998065\n",
       "1961-01-01 -17.845055\n",
       "1962-01-01   5.799747\n",
       "1963-01-01  10.058712\n",
       "1964-01-01 -22.119697\n",
       "1965-01-01  39.084297\n",
       "1966-01-01  -1.429130\n",
       "1967-01-01   8.415938\n",
       "1968-01-01   9.403237\n",
       "1969-01-01   5.468966\n",
       "1970-01-01  22.161216\n",
       "1971-01-01  14.821584\n",
       "1972-01-01  11.412262\n",
       "1973-01-01   4.806608\n",
       "1974-01-01  21.582464\n",
       "1975-01-01   7.589921\n",
       "1976-01-01  -0.339890\n",
       "1977-01-01   7.794317\n",
       "1978-01-01   0.671221\n",
       "1979-01-01  -4.038458\n",
       "1980-01-01  -3.691131\n",
       "1981-01-01  -4.989738\n",
       "1982-01-01   3.157383\n",
       "1983-01-01  -0.769380\n",
       "1984-01-01   8.616644\n",
       "1985-01-01   9.626565\n",
       "1986-01-01   0.920101\n",
       "1987-01-01   2.807404\n",
       "1988-01-01   0.605437\n",
       "1989-01-01  -6.702902\n",
       "1990-01-01  11.192130\n",
       "1991-01-01 -10.207516\n",
       "1992-01-01   8.847419\n",
       "1993-01-01   7.882767\n",
       "1994-01-01  -5.094176\n",
       "1995-01-01  14.132075\n",
       "1996-01-01  18.805115\n",
       "1997-01-01  15.819434\n",
       "1998-01-01  37.140680\n",
       "1999-01-01  -5.822433\n",
       "2000-01-01  26.845987\n",
       "2001-01-01  13.699979\n",
       "2002-01-01  -5.766122\n",
       "2003-01-01  29.549675\n",
       "2004-01-01  -8.749930\n",
       "2005-01-01  16.888119\n",
       "2006-01-01  -7.574112\n",
       "2007-01-01  31.466331\n",
       "2008-01-01  -0.695851"
      ]
     },
     "execution_count": 20,
     "metadata": {},
     "output_type": "execute_result"
    }
   ],
   "source": [
    "新增里程数-(新增里程数.shift(2)*(-0.529421)+新增里程数.shift(1)*0.718548)"
   ]
  },
  {
   "cell_type": "code",
   "execution_count": 36,
   "metadata": {
    "scrolled": true
   },
   "outputs": [
    {
     "data": {
      "text/html": [
       "<div>\n",
       "<style>\n",
       "    .dataframe thead tr:only-child th {\n",
       "        text-align: right;\n",
       "    }\n",
       "\n",
       "    .dataframe thead th {\n",
       "        text-align: left;\n",
       "    }\n",
       "\n",
       "    .dataframe tbody tr th {\n",
       "        vertical-align: top;\n",
       "    }\n",
       "</style>\n",
       "<table border=\"1\" class=\"dataframe\">\n",
       "  <thead>\n",
       "    <tr style=\"text-align: right;\">\n",
       "      <th></th>\n",
       "      <th>新增里程数</th>\n",
       "    </tr>\n",
       "    <tr>\n",
       "      <th>年份</th>\n",
       "      <th></th>\n",
       "    </tr>\n",
       "  </thead>\n",
       "  <tbody>\n",
       "    <tr>\n",
       "      <th>2004-01-01</th>\n",
       "      <td>6.4959</td>\n",
       "    </tr>\n",
       "    <tr>\n",
       "      <th>2005-01-01</th>\n",
       "      <td>10.4452</td>\n",
       "    </tr>\n",
       "    <tr>\n",
       "      <th>2006-01-01</th>\n",
       "      <td>-3.5078</td>\n",
       "    </tr>\n",
       "    <tr>\n",
       "      <th>2007-01-01</th>\n",
       "      <td>23.4159</td>\n",
       "    </tr>\n",
       "    <tr>\n",
       "      <th>2008-01-01</th>\n",
       "      <td>17.9867</td>\n",
       "    </tr>\n",
       "  </tbody>\n",
       "</table>\n",
       "</div>"
      ],
      "text/plain": [
       "              新增里程数\n",
       "年份                 \n",
       "2004-01-01   6.4959\n",
       "2005-01-01  10.4452\n",
       "2006-01-01  -3.5078\n",
       "2007-01-01  23.4159\n",
       "2008-01-01  17.9867"
      ]
     },
     "execution_count": 36,
     "metadata": {},
     "output_type": "execute_result"
    }
   ],
   "source": [
    "新增里程数.tail()"
   ]
  },
  {
   "cell_type": "code",
   "execution_count": 37,
   "metadata": {},
   "outputs": [
    {
     "data": {
      "text/html": [
       "<div>\n",
       "<style>\n",
       "    .dataframe thead tr:only-child th {\n",
       "        text-align: right;\n",
       "    }\n",
       "\n",
       "    .dataframe thead th {\n",
       "        text-align: left;\n",
       "    }\n",
       "\n",
       "    .dataframe tbody tr th {\n",
       "        vertical-align: top;\n",
       "    }\n",
       "</style>\n",
       "<table border=\"1\" class=\"dataframe\">\n",
       "  <thead>\n",
       "    <tr style=\"text-align: right;\">\n",
       "      <th></th>\n",
       "      <th>新增里程数</th>\n",
       "    </tr>\n",
       "    <tr>\n",
       "      <th>年份</th>\n",
       "      <th></th>\n",
       "    </tr>\n",
       "  </thead>\n",
       "  <tbody>\n",
       "    <tr>\n",
       "      <th>2004-01-01</th>\n",
       "      <td>20.9862</td>\n",
       "    </tr>\n",
       "    <tr>\n",
       "      <th>2005-01-01</th>\n",
       "      <td>6.4959</td>\n",
       "    </tr>\n",
       "    <tr>\n",
       "      <th>2006-01-01</th>\n",
       "      <td>10.4452</td>\n",
       "    </tr>\n",
       "    <tr>\n",
       "      <th>2007-01-01</th>\n",
       "      <td>-3.5078</td>\n",
       "    </tr>\n",
       "    <tr>\n",
       "      <th>2008-01-01</th>\n",
       "      <td>23.4159</td>\n",
       "    </tr>\n",
       "  </tbody>\n",
       "</table>\n",
       "</div>"
      ],
      "text/plain": [
       "              新增里程数\n",
       "年份                 \n",
       "2004-01-01  20.9862\n",
       "2005-01-01   6.4959\n",
       "2006-01-01  10.4452\n",
       "2007-01-01  -3.5078\n",
       "2008-01-01  23.4159"
      ]
     },
     "execution_count": 37,
     "metadata": {},
     "output_type": "execute_result"
    }
   ],
   "source": [
    "新增里程数.shift(1).tail()"
   ]
  },
  {
   "cell_type": "code",
   "execution_count": 38,
   "metadata": {},
   "outputs": [
    {
     "data": {
      "text/html": [
       "<div>\n",
       "<style>\n",
       "    .dataframe thead tr:only-child th {\n",
       "        text-align: right;\n",
       "    }\n",
       "\n",
       "    .dataframe thead th {\n",
       "        text-align: left;\n",
       "    }\n",
       "\n",
       "    .dataframe tbody tr th {\n",
       "        vertical-align: top;\n",
       "    }\n",
       "</style>\n",
       "<table border=\"1\" class=\"dataframe\">\n",
       "  <thead>\n",
       "    <tr style=\"text-align: right;\">\n",
       "      <th></th>\n",
       "      <th>新增里程数</th>\n",
       "    </tr>\n",
       "    <tr>\n",
       "      <th>年份</th>\n",
       "      <th></th>\n",
       "    </tr>\n",
       "  </thead>\n",
       "  <tbody>\n",
       "    <tr>\n",
       "      <th>2004-01-01</th>\n",
       "      <td>-0.3140</td>\n",
       "    </tr>\n",
       "    <tr>\n",
       "      <th>2005-01-01</th>\n",
       "      <td>20.9862</td>\n",
       "    </tr>\n",
       "    <tr>\n",
       "      <th>2006-01-01</th>\n",
       "      <td>6.4959</td>\n",
       "    </tr>\n",
       "    <tr>\n",
       "      <th>2007-01-01</th>\n",
       "      <td>10.4452</td>\n",
       "    </tr>\n",
       "    <tr>\n",
       "      <th>2008-01-01</th>\n",
       "      <td>-3.5078</td>\n",
       "    </tr>\n",
       "  </tbody>\n",
       "</table>\n",
       "</div>"
      ],
      "text/plain": [
       "              新增里程数\n",
       "年份                 \n",
       "2004-01-01  -0.3140\n",
       "2005-01-01  20.9862\n",
       "2006-01-01   6.4959\n",
       "2007-01-01  10.4452\n",
       "2008-01-01  -3.5078"
      ]
     },
     "execution_count": 38,
     "metadata": {},
     "output_type": "execute_result"
    }
   ],
   "source": [
    "新增里程数.shift(2).tail()"
   ]
  },
  {
   "cell_type": "code",
   "execution_count": 61,
   "metadata": {},
   "outputs": [
    {
     "name": "stdout",
     "output_type": "stream",
     "text": [
      "intercept      8.937662\n",
      "ar.L1          0.718548\n",
      "ar.L2         -0.529421\n",
      "sigma2       365.144274\n",
      "dtype: float64\n"
     ]
    },
    {
     "data": {
      "text/html": [
       "<div>\n",
       "<style>\n",
       "    .dataframe thead tr:only-child th {\n",
       "        text-align: right;\n",
       "    }\n",
       "\n",
       "    .dataframe thead th {\n",
       "        text-align: left;\n",
       "    }\n",
       "\n",
       "    .dataframe tbody tr th {\n",
       "        vertical-align: top;\n",
       "    }\n",
       "</style>\n",
       "<table border=\"1\" class=\"dataframe\">\n",
       "  <thead>\n",
       "    <tr style=\"text-align: right;\">\n",
       "      <th></th>\n",
       "      <th>延迟期数</th>\n",
       "      <th>Q_LB统计量</th>\n",
       "      <th>P值</th>\n",
       "      <th>接受白噪音假设</th>\n",
       "    </tr>\n",
       "  </thead>\n",
       "  <tbody>\n",
       "    <tr>\n",
       "      <th>0</th>\n",
       "      <td>6</td>\n",
       "      <td>2.357716</td>\n",
       "      <td>0.884039</td>\n",
       "      <td>True</td>\n",
       "    </tr>\n",
       "    <tr>\n",
       "      <th>1</th>\n",
       "      <td>12</td>\n",
       "      <td>3.377321</td>\n",
       "      <td>0.992243</td>\n",
       "      <td>True</td>\n",
       "    </tr>\n",
       "    <tr>\n",
       "      <th>2</th>\n",
       "      <td>18</td>\n",
       "      <td>4.170272</td>\n",
       "      <td>0.999679</td>\n",
       "      <td>True</td>\n",
       "    </tr>\n",
       "  </tbody>\n",
       "</table>\n",
       "</div>"
      ],
      "text/plain": [
       "   延迟期数   Q_LB统计量        P值  接受白噪音假设\n",
       "0     6  2.357716  0.884039     True\n",
       "1    12  3.377321  0.992243     True\n",
       "2    18  4.170272  0.999679     True"
      ]
     },
     "execution_count": 61,
     "metadata": {},
     "output_type": "execute_result"
    }
   ],
   "source": [
    "model=SARIMAX(endog=新增里程数,order=(2,0,0),trend='c')\n",
    "results=model.fit()\n",
    "print(results.params)\n",
    "my_Q_LB(results.resid,out_lags_list=[6,12,18])"
   ]
  },
  {
   "cell_type": "code",
   "execution_count": 62,
   "metadata": {},
   "outputs": [
    {
     "data": {
      "text/html": [
       "<div>\n",
       "<style>\n",
       "    .dataframe thead tr:only-child th {\n",
       "        text-align: right;\n",
       "    }\n",
       "\n",
       "    .dataframe thead th {\n",
       "        text-align: left;\n",
       "    }\n",
       "\n",
       "    .dataframe tbody tr th {\n",
       "        vertical-align: top;\n",
       "    }\n",
       "</style>\n",
       "<table border=\"1\" class=\"dataframe\">\n",
       "  <thead>\n",
       "    <tr style=\"text-align: right;\">\n",
       "      <th></th>\n",
       "      <th>新增里程数</th>\n",
       "    </tr>\n",
       "    <tr>\n",
       "      <th>年份</th>\n",
       "      <th></th>\n",
       "    </tr>\n",
       "  </thead>\n",
       "  <tbody>\n",
       "    <tr>\n",
       "      <th>2004-01-01</th>\n",
       "      <td>-17.687598</td>\n",
       "    </tr>\n",
       "    <tr>\n",
       "      <th>2005-01-01</th>\n",
       "      <td>7.950455</td>\n",
       "    </tr>\n",
       "    <tr>\n",
       "      <th>2006-01-01</th>\n",
       "      <td>-16.511777</td>\n",
       "    </tr>\n",
       "    <tr>\n",
       "      <th>2007-01-01</th>\n",
       "      <td>22.528670</td>\n",
       "    </tr>\n",
       "    <tr>\n",
       "      <th>2008-01-01</th>\n",
       "      <td>-9.633520</td>\n",
       "    </tr>\n",
       "  </tbody>\n",
       "</table>\n",
       "</div>"
      ],
      "text/plain": [
       "                新增里程数\n",
       "年份                   \n",
       "2004-01-01 -17.687598\n",
       "2005-01-01   7.950455\n",
       "2006-01-01 -16.511777\n",
       "2007-01-01  22.528670\n",
       "2008-01-01  -9.633520"
      ]
     },
     "execution_count": 62,
     "metadata": {},
     "output_type": "execute_result"
    }
   ],
   "source": [
    "# 再现 AR模型的内部计算原理\n",
    "新增里程数.tail()-(新增里程数.shift(1).tail()*results.params['ar.L1']+\n",
    " 新增里程数.shift(2).tail()*results.params['ar.L2']+results.params['intercept'])"
   ]
  },
  {
   "cell_type": "code",
   "execution_count": null,
   "metadata": {
    "collapsed": true
   },
   "outputs": [],
   "source": []
  },
  {
   "cell_type": "markdown",
   "metadata": {},
   "source": [
    "### 再现MA模型 实际用例子实现 ARIMA模型"
   ]
  },
  {
   "cell_type": "code",
   "execution_count": 119,
   "metadata": {},
   "outputs": [
    {
     "data": {
      "text/plain": [
       "'/Users/pengju/python-workspace/statistics/应用时间序列分析'"
      ]
     },
     "execution_count": 119,
     "metadata": {},
     "output_type": "execute_result"
    }
   ],
   "source": [
    "pwd"
   ]
  },
  {
   "cell_type": "code",
   "execution_count": 64,
   "metadata": {},
   "outputs": [
    {
     "data": {
      "image/png": "[encoded data removed]",
      "text/plain": [
       "<matplotlib.figure.Figure at 0x1024936a0>"
      ]
     },
     "metadata": {},
     "output_type": "display_data"
    }
   ],
   "source": [
    "加油站.plot()\n",
    "plt.show()"
   ]
  },
  {
   "cell_type": "code",
   "execution_count": 114,
   "metadata": {},
   "outputs": [
    {
     "name": "stdout",
     "output_type": "stream",
     "text": [
      "intercept      -4.794494\n",
      "ma.L1          -0.847660\n",
      "sigma2       2019.766417\n",
      "dtype: float64\n"
     ]
    },
    {
     "data": {
      "text/html": [
       "<div>\n",
       "<style>\n",
       "    .dataframe thead tr:only-child th {\n",
       "        text-align: right;\n",
       "    }\n",
       "\n",
       "    .dataframe thead th {\n",
       "        text-align: left;\n",
       "    }\n",
       "\n",
       "    .dataframe tbody tr th {\n",
       "        vertical-align: top;\n",
       "    }\n",
       "</style>\n",
       "<table border=\"1\" class=\"dataframe\">\n",
       "  <thead>\n",
       "    <tr style=\"text-align: right;\">\n",
       "      <th></th>\n",
       "      <th>延迟期数</th>\n",
       "      <th>Q_LB统计量</th>\n",
       "      <th>P值</th>\n",
       "      <th>接受白噪音假设</th>\n",
       "    </tr>\n",
       "  </thead>\n",
       "  <tbody>\n",
       "    <tr>\n",
       "      <th>0</th>\n",
       "      <td>6</td>\n",
       "      <td>3.269349</td>\n",
       "      <td>0.774360</td>\n",
       "      <td>True</td>\n",
       "    </tr>\n",
       "    <tr>\n",
       "      <th>1</th>\n",
       "      <td>12</td>\n",
       "      <td>10.070329</td>\n",
       "      <td>0.609791</td>\n",
       "      <td>True</td>\n",
       "    </tr>\n",
       "    <tr>\n",
       "      <th>2</th>\n",
       "      <td>18</td>\n",
       "      <td>21.183280</td>\n",
       "      <td>0.270267</td>\n",
       "      <td>True</td>\n",
       "    </tr>\n",
       "  </tbody>\n",
       "</table>\n",
       "</div>"
      ],
      "text/plain": [
       "   延迟期数    Q_LB统计量        P值  接受白噪音假设\n",
       "0     6   3.269349  0.774360     True\n",
       "1    12  10.070329  0.609791     True\n",
       "2    18  21.183280  0.270267     True"
      ]
     },
     "execution_count": 114,
     "metadata": {},
     "output_type": "execute_result"
    }
   ],
   "source": [
    "model=SARIMAX(endog=加油站,order=(0,0,1),trend='c')\n",
    "results=model.fit()\n",
    "print(results.params)\n",
    "my_Q_LB(results.resid,out_lags_list=[6,12,18])"
   ]
  },
  {
   "cell_type": "code",
   "execution_count": 65,
   "metadata": {
    "scrolled": true
   },
   "outputs": [
    {
     "name": "stdout",
     "output_type": "stream",
     "text": [
      "intercept      -4.794494\n",
      "ma.L1          -0.847660\n",
      "sigma2       2019.766417\n",
      "dtype: float64\n"
     ]
    },
    {
     "data": {
      "text/html": [
       "<div>\n",
       "<style>\n",
       "    .dataframe thead tr:only-child th {\n",
       "        text-align: right;\n",
       "    }\n",
       "\n",
       "    .dataframe thead th {\n",
       "        text-align: left;\n",
       "    }\n",
       "\n",
       "    .dataframe tbody tr th {\n",
       "        vertical-align: top;\n",
       "    }\n",
       "</style>\n",
       "<table border=\"1\" class=\"dataframe\">\n",
       "  <thead>\n",
       "    <tr style=\"text-align: right;\">\n",
       "      <th></th>\n",
       "      <th>延迟期数</th>\n",
       "      <th>Q_LB统计量</th>\n",
       "      <th>P值</th>\n",
       "      <th>接受白噪音假设</th>\n",
       "    </tr>\n",
       "  </thead>\n",
       "  <tbody>\n",
       "    <tr>\n",
       "      <th>0</th>\n",
       "      <td>6</td>\n",
       "      <td>3.269349</td>\n",
       "      <td>0.774360</td>\n",
       "      <td>True</td>\n",
       "    </tr>\n",
       "    <tr>\n",
       "      <th>1</th>\n",
       "      <td>12</td>\n",
       "      <td>10.070329</td>\n",
       "      <td>0.609791</td>\n",
       "      <td>True</td>\n",
       "    </tr>\n",
       "    <tr>\n",
       "      <th>2</th>\n",
       "      <td>18</td>\n",
       "      <td>21.183280</td>\n",
       "      <td>0.270267</td>\n",
       "      <td>True</td>\n",
       "    </tr>\n",
       "  </tbody>\n",
       "</table>\n",
       "</div>"
      ],
      "text/plain": [
       "   延迟期数    Q_LB统计量        P值  接受白噪音假设\n",
       "0     6   3.269349  0.774360     True\n",
       "1    12  10.070329  0.609791     True\n",
       "2    18  21.183280  0.270267     True"
      ]
     },
     "execution_count": 65,
     "metadata": {},
     "output_type": "execute_result"
    }
   ],
   "source": [
    "model=SARIMAX(endog=加油站,order=(0,0,1),trend='c')\n",
    "results=model.fit()\n",
    "print(results.params)\n",
    "my_Q_LB(results.resid,out_lags_list=[6,12,18])"
   ]
  },
  {
   "cell_type": "code",
   "execution_count": 118,
   "metadata": {
    "scrolled": true
   },
   "outputs": [
    {
     "data": {
      "text/plain": [
       "5.493464711412422"
      ]
     },
     "execution_count": 118,
     "metadata": {},
     "output_type": "execute_result"
    }
   ],
   "source": [
    "### 对结果进行有效验证\n",
    "\n",
    "加油站.loc['2000-02-27','overshort']-(results.params['intercept']+results.resid['2000-02-26']*results.params['ma.L1'])\n",
    "\n"
   ]
  },
  {
   "cell_type": "code",
   "execution_count": 110,
   "metadata": {},
   "outputs": [
    {
     "data": {
      "text/plain": [
       "5.4934646658894195"
      ]
     },
     "execution_count": 110,
     "metadata": {},
     "output_type": "execute_result"
    }
   ],
   "source": [
    "results.resid['2000-02-27']"
   ]
  },
  {
   "cell_type": "markdown",
   "metadata": {},
   "source": [
    "\n",
    "#### 注意\n",
    "- 如果有MA的项目时，enforce_invertibility 应设置为False"
   ]
  },
  {
   "cell_type": "code",
   "execution_count": 56,
   "metadata": {
    "scrolled": true
   },
   "outputs": [
    {
     "name": "stdout",
     "output_type": "stream",
     "text": [
      "intercept    0.003235\n",
      "ar.L1        0.392831\n",
      "ma.L1       -0.886840\n",
      "sigma2       0.015409\n",
      "dtype: float64\n"
     ]
    },
    {
     "data": {
      "text/html": [
       "<div>\n",
       "<style>\n",
       "    .dataframe thead tr:only-child th {\n",
       "        text-align: right;\n",
       "    }\n",
       "\n",
       "    .dataframe thead th {\n",
       "        text-align: left;\n",
       "    }\n",
       "\n",
       "    .dataframe tbody tr th {\n",
       "        vertical-align: top;\n",
       "    }\n",
       "</style>\n",
       "<table border=\"1\" class=\"dataframe\">\n",
       "  <thead>\n",
       "    <tr style=\"text-align: right;\">\n",
       "      <th></th>\n",
       "      <th>延迟期数</th>\n",
       "      <th>Q_LB统计量</th>\n",
       "      <th>P值</th>\n",
       "      <th>接受白噪音假设</th>\n",
       "    </tr>\n",
       "  </thead>\n",
       "  <tbody>\n",
       "    <tr>\n",
       "      <th>0</th>\n",
       "      <td>6</td>\n",
       "      <td>5.043916</td>\n",
       "      <td>0.538193</td>\n",
       "      <td>True</td>\n",
       "    </tr>\n",
       "    <tr>\n",
       "      <th>1</th>\n",
       "      <td>12</td>\n",
       "      <td>10.230762</td>\n",
       "      <td>0.595724</td>\n",
       "      <td>True</td>\n",
       "    </tr>\n",
       "    <tr>\n",
       "      <th>2</th>\n",
       "      <td>18</td>\n",
       "      <td>13.533805</td>\n",
       "      <td>0.758937</td>\n",
       "      <td>True</td>\n",
       "    </tr>\n",
       "  </tbody>\n",
       "</table>\n",
       "</div>"
      ],
      "text/plain": [
       "   延迟期数    Q_LB统计量        P值  接受白噪音假设\n",
       "0     6   5.043916  0.538193     True\n",
       "1    12  10.230762  0.595724     True\n",
       "2    18  13.533805  0.758937     True"
      ]
     },
     "execution_count": 56,
     "metadata": {},
     "output_type": "execute_result"
    }
   ],
   "source": [
    "model=SARIMAX(endog=全球气温差分,order=(1,0,1),trend='c',enforce_invertibility=False)\n",
    "results=model.fit()\n",
    "print(results.params)\n",
    "my_Q_LB(results.resid,out_lags_list=[6,12,18])"
   ]
  },
  {
   "cell_type": "markdown",
   "metadata": {},
   "source": [
    "# 模型优化"
   ]
  },
  {
   "cell_type": "code",
   "execution_count": 12,
   "metadata": {
    "scrolled": true
   },
   "outputs": [
    {
     "data": {
      "image/png": "[encoded data removed]",
      "text/plain": [
       "<matplotlib.figure.Figure at 0x1c14087588>"
      ]
     },
     "metadata": {},
     "output_type": "display_data"
    },
    {
     "data": {
      "image/png": "[encoded data removed]",
      "text/plain": [
       "<matplotlib.figure.Figure at 0x1c11371710>"
      ]
     },
     "metadata": {},
     "output_type": "display_data"
    },
    {
     "data": {
      "image/png": "[encoded data removed]",
      "text/plain": [
       "<matplotlib.figure.Figure at 0x1c11371320>"
      ]
     },
     "metadata": {},
     "output_type": "display_data"
    },
    {
     "data": {
      "text/html": [
       "<div>\n",
       "<style>\n",
       "    .dataframe thead tr:only-child th {\n",
       "        text-align: right;\n",
       "    }\n",
       "\n",
       "    .dataframe thead th {\n",
       "        text-align: left;\n",
       "    }\n",
       "\n",
       "    .dataframe tbody tr th {\n",
       "        vertical-align: top;\n",
       "    }\n",
       "</style>\n",
       "<table border=\"1\" class=\"dataframe\">\n",
       "  <thead>\n",
       "    <tr style=\"text-align: right;\">\n",
       "      <th></th>\n",
       "      <th>延迟期数</th>\n",
       "      <th>Q_LB统计量</th>\n",
       "      <th>P值</th>\n",
       "      <th>接受白噪音假设</th>\n",
       "    </tr>\n",
       "  </thead>\n",
       "  <tbody>\n",
       "    <tr>\n",
       "      <th>0</th>\n",
       "      <td>6</td>\n",
       "      <td>21.318620</td>\n",
       "      <td>0.001608</td>\n",
       "      <td>False</td>\n",
       "    </tr>\n",
       "    <tr>\n",
       "      <th>1</th>\n",
       "      <td>12</td>\n",
       "      <td>23.034683</td>\n",
       "      <td>0.027433</td>\n",
       "      <td>False</td>\n",
       "    </tr>\n",
       "    <tr>\n",
       "      <th>2</th>\n",
       "      <td>18</td>\n",
       "      <td>29.102660</td>\n",
       "      <td>0.047139</td>\n",
       "      <td>False</td>\n",
       "    </tr>\n",
       "  </tbody>\n",
       "</table>\n",
       "</div>"
      ],
      "text/plain": [
       "   延迟期数    Q_LB统计量        P值  接受白噪音假设\n",
       "0     6  21.318620  0.001608    False\n",
       "1    12  23.034683  0.027433    False\n",
       "2    18  29.102660  0.047139    False"
      ]
     },
     "metadata": {},
     "output_type": "display_data"
    },
    {
     "name": "stdout",
     "output_type": "stream",
     "text": [
      "\n",
      "para\n",
      " intercept     51.169603\n",
      "ma.L1         -0.319431\n",
      "ma.L2          0.301882\n",
      "sigma2       114.434513\n",
      "dtype: float64\n",
      "\n",
      "t value\n",
      " intercept    37.860520\n",
      "ma.L1        -2.565232\n",
      "ma.L2         2.409730\n",
      "sigma2        6.335320\n",
      "dtype: float64\n",
      "\n",
      "t aic 538.7055454590227\n",
      "\n",
      "t aic 547.6995264272201\n"
     ]
    },
    {
     "data": {
      "text/html": [
       "<div>\n",
       "<style>\n",
       "    .dataframe thead tr:only-child th {\n",
       "        text-align: right;\n",
       "    }\n",
       "\n",
       "    .dataframe thead th {\n",
       "        text-align: left;\n",
       "    }\n",
       "\n",
       "    .dataframe tbody tr th {\n",
       "        vertical-align: top;\n",
       "    }\n",
       "</style>\n",
       "<table border=\"1\" class=\"dataframe\">\n",
       "  <thead>\n",
       "    <tr style=\"text-align: right;\">\n",
       "      <th></th>\n",
       "      <th>延迟期数</th>\n",
       "      <th>Q_LB统计量</th>\n",
       "      <th>P值</th>\n",
       "      <th>接受白噪音假设</th>\n",
       "    </tr>\n",
       "  </thead>\n",
       "  <tbody>\n",
       "    <tr>\n",
       "      <th>0</th>\n",
       "      <td>6</td>\n",
       "      <td>2.321859</td>\n",
       "      <td>0.887848</td>\n",
       "      <td>True</td>\n",
       "    </tr>\n",
       "    <tr>\n",
       "      <th>1</th>\n",
       "      <td>12</td>\n",
       "      <td>4.480456</td>\n",
       "      <td>0.973127</td>\n",
       "      <td>True</td>\n",
       "    </tr>\n",
       "    <tr>\n",
       "      <th>2</th>\n",
       "      <td>18</td>\n",
       "      <td>10.767591</td>\n",
       "      <td>0.903957</td>\n",
       "      <td>True</td>\n",
       "    </tr>\n",
       "  </tbody>\n",
       "</table>\n",
       "</div>"
      ],
      "text/plain": [
       "   延迟期数    Q_LB统计量        P值  接受白噪音假设\n",
       "0     6   2.321859  0.887848     True\n",
       "1    12   4.480456  0.973127     True\n",
       "2    18  10.767591  0.903957     True"
      ]
     },
     "execution_count": 12,
     "metadata": {},
     "output_type": "execute_result"
    }
   ],
   "source": [
    "化学反应=pd.read_excel(os.path.join(案例数据,\"附录1.11.xlsx\"))\n",
    "化学反应.set_index('time',inplace=True)\n",
    "化学反应.index=[datetime.datetime(2000,1,1)+datetime.timedelta(days=int(i)) for i in 化学反应.index]\n",
    "化学反应.plot(marker='*')\n",
    "plt.show()\n",
    "sm.graphics.tsa.plot_acf(化学反应,lags=20)\n",
    "sm.graphics.tsa.plot_pacf(化学反应,lags=20)\n",
    "plt.show()\n",
    "display(my_Q_LB(化学反应,out_lags_list=[6,12,18]))\n",
    "\n",
    "model=SARIMAX(endog=化学反应,order=(0,0,2),trend='c',enforce_invertibility=False)\n",
    "results=model.fit()\n",
    "print('\\npara\\n',results.params)\n",
    "print('\\nt value\\n',results.tvalues)\n",
    "print('\\nt aic',results.aic)\n",
    "print('\\nt aic',results.bic)\n",
    "my_Q_LB(results.resid,out_lags_list=[6,12,18])"
   ]
  },
  {
   "cell_type": "markdown",
   "metadata": {},
   "source": [
    "# 序列预测\n",
    "- 仅限于ARIMA "
   ]
  },
  {
   "cell_type": "code",
   "execution_count": 13,
   "metadata": {
    "collapsed": true
   },
   "outputs": [],
   "source": [
    "# 仅限于ARIMA\n",
    "def confidence_interval(results,steps=5,alpha=0.05):\n",
    "    val,st,intv=results.forecast(steps=steps,alpha=alpha)\n",
    "    return pd.DataFrame(np.concatenate([val.reshape(-1,1),st.reshape(-1,1),intv],axis=1),columns=['预测值','标准差','{:,.0%}置信区间下限'.format(alpha),'{:,.0%}置信区间上限'.format(alpha)])\n"
   ]
  },
  {
   "cell_type": "code",
   "execution_count": 14,
   "metadata": {
    "scrolled": true
   },
   "outputs": [
    {
     "name": "stdout",
     "output_type": "stream",
     "text": [
      "const          11.022119\n",
      "ar.L1.新增里程数     0.718546\n",
      "ar.L2.新增里程数    -0.529423\n",
      "dtype: float64\n"
     ]
    },
    {
     "name": "stderr",
     "output_type": "stream",
     "text": [
      "/Users/pengju/anaconda3/lib/python3.6/site-packages/scipy/signal/signaltools.py:1364: FutureWarning: Using a non-tuple sequence for multidimensional indexing is deprecated; use `arr[tuple(seq)]` instead of `arr[seq]`. In the future this will be interpreted as an array index, `arr[np.array(seq)]`, which will result either in an error or a different result.\n",
      "  out_full[ind] += zi\n",
      "/Users/pengju/anaconda3/lib/python3.6/site-packages/scipy/signal/signaltools.py:1367: FutureWarning: Using a non-tuple sequence for multidimensional indexing is deprecated; use `arr[tuple(seq)]` instead of `arr[seq]`. In the future this will be interpreted as an array index, `arr[np.array(seq)]`, which will result either in an error or a different result.\n",
      "  out = out_full[ind]\n",
      "/Users/pengju/anaconda3/lib/python3.6/site-packages/scipy/signal/signaltools.py:1373: FutureWarning: Using a non-tuple sequence for multidimensional indexing is deprecated; use `arr[tuple(seq)]` instead of `arr[seq]`. In the future this will be interpreted as an array index, `arr[np.array(seq)]`, which will result either in an error or a different result.\n",
      "  zf = out_full[ind]\n",
      "/Users/pengju/anaconda3/lib/python3.6/site-packages/statsmodels/tsa/kalmanf/kalmanfilter.py:646: FutureWarning: Conversion of the second argument of issubdtype from `float` to `np.floating` is deprecated. In future, it will be treated as `np.float64 == np.dtype(float).type`.\n",
      "  if issubdtype(paramsdtype, float):\n",
      "/Users/pengju/anaconda3/lib/python3.6/site-packages/statsmodels/tsa/kalmanf/kalmanfilter.py:650: FutureWarning: Conversion of the second argument of issubdtype from `complex` to `np.complexfloating` is deprecated. In future, it will be treated as `np.complex128 == np.dtype(complex).type`.\n",
      "  elif issubdtype(paramsdtype, complex):\n",
      "/Users/pengju/anaconda3/lib/python3.6/site-packages/statsmodels/tsa/kalmanf/kalmanfilter.py:577: FutureWarning: Conversion of the second argument of issubdtype from `float` to `np.floating` is deprecated. In future, it will be treated as `np.float64 == np.dtype(float).type`.\n",
      "  if issubdtype(paramsdtype, float):\n"
     ]
    },
    {
     "data": {
      "text/html": [
       "<div>\n",
       "<style>\n",
       "    .dataframe thead tr:only-child th {\n",
       "        text-align: right;\n",
       "    }\n",
       "\n",
       "    .dataframe thead th {\n",
       "        text-align: left;\n",
       "    }\n",
       "\n",
       "    .dataframe tbody tr th {\n",
       "        vertical-align: top;\n",
       "    }\n",
       "</style>\n",
       "<table border=\"1\" class=\"dataframe\">\n",
       "  <thead>\n",
       "    <tr style=\"text-align: right;\">\n",
       "      <th></th>\n",
       "      <th>预测值</th>\n",
       "      <th>标准差</th>\n",
       "      <th>5%置信区间下限</th>\n",
       "      <th>5%置信区间上限</th>\n",
       "    </tr>\n",
       "  </thead>\n",
       "  <tbody>\n",
       "    <tr>\n",
       "      <th>0</th>\n",
       "      <td>9.464935</td>\n",
       "      <td>19.108746</td>\n",
       "      <td>-27.987519</td>\n",
       "      <td>46.917389</td>\n",
       "    </tr>\n",
       "    <tr>\n",
       "      <th>1</th>\n",
       "      <td>6.215998</td>\n",
       "      <td>23.530221</td>\n",
       "      <td>-39.902388</td>\n",
       "      <td>52.334384</td>\n",
       "    </tr>\n",
       "    <tr>\n",
       "      <th>2</th>\n",
       "      <td>8.393109</td>\n",
       "      <td>23.531556</td>\n",
       "      <td>-37.727893</td>\n",
       "      <td>54.514110</td>\n",
       "    </tr>\n",
       "    <tr>\n",
       "      <th>3</th>\n",
       "      <td>11.677526</td>\n",
       "      <td>24.682516</td>\n",
       "      <td>-36.699316</td>\n",
       "      <td>60.054369</td>\n",
       "    </tr>\n",
       "    <tr>\n",
       "      <th>4</th>\n",
       "      <td>12.884919</td>\n",
       "      <td>25.228459</td>\n",
       "      <td>-36.561951</td>\n",
       "      <td>62.331790</td>\n",
       "    </tr>\n",
       "  </tbody>\n",
       "</table>\n",
       "</div>"
      ],
      "text/plain": [
       "         预测值        标准差   5%置信区间下限   5%置信区间上限\n",
       "0   9.464935  19.108746 -27.987519  46.917389\n",
       "1   6.215998  23.530221 -39.902388  52.334384\n",
       "2   8.393109  23.531556 -37.727893  54.514110\n",
       "3  11.677526  24.682516 -36.699316  60.054369\n",
       "4  12.884919  25.228459 -36.561951  62.331790"
      ]
     },
     "execution_count": 14,
     "metadata": {},
     "output_type": "execute_result"
    }
   ],
   "source": [
    "model=ARIMA(endog=新增里程数,order=(2,0,0))\n",
    "results=model.fit()\n",
    "print(results.params)\n",
    "my_Q_LB(results.resid,out_lags_list=[6,12,18])\n",
    "# results.forecast(steps=5,alpha=0.05)\n",
    "confidence_interval(results)"
   ]
  },
  {
   "cell_type": "code",
   "execution_count": 15,
   "metadata": {},
   "outputs": [
    {
     "data": {
      "text/plain": [
       "'/Users/pengju/python-workspace/statistics/应用时间序列分析'"
      ]
     },
     "execution_count": 15,
     "metadata": {},
     "output_type": "execute_result"
    }
   ],
   "source": [
    "pwd"
   ]
  },
  {
   "cell_type": "code",
   "execution_count": null,
   "metadata": {
    "collapsed": true
   },
   "outputs": [],
   "source": []
  }
 ],
 "metadata": {
  "kernelspec": {
   "display_name": "Python 3",
   "language": "python",
   "name": "python3"
  },
  "language_info": {
   "codemirror_mode": {
    "name": "ipython",
    "version": 3
   },
   "file_extension": ".py",
   "mimetype": "text/x-python",
   "name": "python",
   "nbconvert_exporter": "python",
   "pygments_lexer": "ipython3",
   "version": "3.6.3"
  }
 },
 "nbformat": 4,
 "nbformat_minor": 2
}
